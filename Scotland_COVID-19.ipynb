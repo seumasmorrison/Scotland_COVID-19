{
 "cells": [
  {
   "cell_type": "markdown",
   "metadata": {},
   "source": [
    "Data on confirmed COVID-19 cases in Scotland by Health board taken from the Web Archive [WayBackMachine](https://web.archive.org/web/*/https://www. gov.scot/coronavirus-covid-19/) capture of the Scottish Government published health board data published since 2020-03-05 ( broken down by specific health boards )."
   ]
  },
  {
   "cell_type": "code",
   "execution_count": 3,
   "metadata": {},
   "outputs": [
    {
     "name": "stdout",
     "output_type": "stream",
     "text": [
      "Requirement already satisfied: html2text in c:\\programdata\\anaconda3\\lib\\site-packages (2020.1.16)\n",
      "Requirement already satisfied: lxml in c:\\programdata\\anaconda3\\lib\\site-packages (4.3.2)\n",
      "Requirement already satisfied: matplotlib in c:\\programdata\\anaconda3\\lib\\site-packages (3.0.3)\n",
      "Requirement already satisfied: pandas in c:\\programdata\\anaconda3\\lib\\site-packages (1.0.0)\n",
      "Requirement already satisfied: word2number in c:\\programdata\\anaconda3\\lib\\site-packages (1.1)\n",
      "Requirement already satisfied: numpy>=1.10.0 in c:\\programdata\\anaconda3\\lib\\site-packages (from matplotlib) (1.17.0)\n",
      "Requirement already satisfied: cycler>=0.10 in c:\\programdata\\anaconda3\\lib\\site-packages (from matplotlib) (0.10.0)\n",
      "Requirement already satisfied: kiwisolver>=1.0.1 in c:\\programdata\\anaconda3\\lib\\site-packages (from matplotlib) (1.0.1)\n",
      "Requirement already satisfied: pyparsing!=2.0.4,!=2.1.2,!=2.1.6,>=2.0.1 in c:\\programdata\\anaconda3\\lib\\site-packages (from matplotlib) (2.3.1)\n",
      "Requirement already satisfied: python-dateutil>=2.1 in c:\\programdata\\anaconda3\\lib\\site-packages (from matplotlib) (2.8.0)\n",
      "Requirement already satisfied: pytz>=2017.2 in c:\\programdata\\anaconda3\\lib\\site-packages (from pandas) (2018.9)\n",
      "Requirement already satisfied: six in c:\\programdata\\anaconda3\\lib\\site-packages (from cycler>=0.10->matplotlib) (1.12.0)\n",
      "Requirement already satisfied: setuptools in c:\\programdata\\anaconda3\\lib\\site-packages (from kiwisolver>=1.0.1->matplotlib) (40.8.0)\n",
      "Note: you may need to restart the kernel to use updated packages.\n"
     ]
    }
   ],
   "source": [
    "pip install html2text lxml matplotlib pandas word2number xarray "
   ]
  },
  {
   "cell_type": "code",
   "execution_count": 19,
   "metadata": {},
   "outputs": [],
   "source": [
    "from datetime import datetime\n",
    "from pathlib import Path\n",
    "\n",
    "from html2text import html2text\n",
    "from dateutil import parser\n",
    "from word2number import w2n\n",
    "import pandas as pd\n",
    "import urllib\n",
    "import xarray as xr"
   ]
  },
  {
   "cell_type": "code",
   "execution_count": 5,
   "metadata": {},
   "outputs": [],
   "source": [
    "class ScotlandCOVID19():\n",
    "    \n",
    "    def __init__(self, html: str, archive_copy: bool = False, date_requested: str = None):\n",
    "        self.html = html\n",
    "        self.date_requested = date_requested\n",
    "        self.lines = self.parse_html()\n",
    "        self.archive_copy = archive_copy\n",
    "        self.date = self.parse_date()\n",
    "        self.counts = self.get_counts()\n",
    "        self.deaths = self.get_number_of_deaths()\n",
    "        self.tests = self.get_num_tests()\n",
    "        \n",
    "    def __repr__(self):\n",
    "        return \"Date: \" + str(self.date)[:10] + \"\\nNumbe of tests concluded to date: \" + str(self.tests) + \\\n",
    "            \"\\nPatient deaths of confirmed cases to date: \" + str(self.deaths) + \\\n",
    "            \"\\n\" + str(self.counts)\n",
    "        \n",
    "    @classmethod\n",
    "    def from_latest_government(cls):\n",
    "        print(\"Latest\")\n",
    "        html = str(urllib.request.urlopen('https://www.gov.scot/coronavirus-covid-19').read())\n",
    "        return cls(html)\n",
    "        \n",
    "    @classmethod\n",
    "    def from_date(cls, date: str):\n",
    "        print(date)\n",
    "        url =  \"https://web.archive.org/web/\" + date + \\\n",
    "            \"/https://www.gov.scot/coronavirus-covid-19\"\n",
    "        html = str(urllib.request.urlopen(url).read())\n",
    "        return cls(html, archive_copy=True, date_requested=date)\n",
    "\n",
    "    def parse_html(self) -> list:\n",
    "        lines = html2text(self.html).replace('\\n','').split('\\\\n')\n",
    "        new_lines = []\n",
    "        for line in lines:\n",
    "            if line != '':\n",
    "                new_lines.append(lines)\n",
    "        return new_lines\n",
    "    \n",
    "    def parse_date(self) -> str:\n",
    "        \"\"\"Parses the publication date from the line below the published table\"\"\"\n",
    "        for line in self.lines:\n",
    "            line = ''.join(line)\n",
    "            if 'updated' in line:\n",
    "                index = line.find('Last updated')\n",
    "                if index != -1:\n",
    "                    substring = line[index + 10: index + 50].split('.')[0][-13:]\n",
    "                    print(substring)\n",
    "                    return pd.to_datetime(substring)\n",
    "        \n",
    "    def get_number_of_deaths(self) -> int:\n",
    "        index = self.html.find('Sadly,')\n",
    "        if index != -1:\n",
    "            return w2n.word_to_num(self.html[index+7:index+20].split(' ')[0])\n",
    "        index = self.html.find('patients who')\n",
    "        if index != -1:\n",
    "            return int(self.html[index-5:index].split('>')[1])\n",
    "        return 0\n",
    "    \n",
    "    def get_num_tests(self) -> int:\n",
    "        index = self.html.find('A total of')\n",
    "        substring = self.html[index+11:index+21].split()[0]\n",
    "        for char in [';','>']:\n",
    "            if char in substring:\n",
    "                substring = substring.split(char)[1]\n",
    "        return int(substring.replace(',',''))\n",
    "    \n",
    "    def get_counts(self) -> pd.DataFrame:\n",
    "        tables = pd.read_html(self.html)\n",
    "        if len(tables) >= 3 and self.archive_copy:\n",
    "            counts = tables[2]\n",
    "        elif len(tables) > 0: \n",
    "            counts = tables[0]\n",
    "        counts = counts.set_index(counts.columns[0])\n",
    "        counts.columns.name = counts.columns[0]\n",
    "        counts.columns = [self.date]\n",
    "        return counts"
   ]
  },
  {
   "cell_type": "code",
   "execution_count": 98,
   "metadata": {},
   "outputs": [],
   "source": [
    "class ScotlandCOVID19Results():\n",
    "    \n",
    "    def __init__(self, results):\n",
    "        deaths = {}\n",
    "        tests = {}\n",
    "        counts = []\n",
    "        for result in results:\n",
    "            deaths[result.date] = result.deaths\n",
    "            tests[result.date] = result.tests\n",
    "            counts.append(result.counts)\n",
    "        self.deaths = pd.Series(deaths, name='Deaths of confirmed cases')\n",
    "        self.deaths.index.name = 'date'\n",
    "        self.tests = pd.Series(tests, name='Tests concluded')\n",
    "        self.tests.index.name = 'date'\n",
    "        self.results = pd.concat([self.deaths, self.tests], axis=1)\n",
    "        self.counts = pd.concat(counts,axis=1).transpose()\n",
    "        self.counts = self.counts[self.counts.columns.sort_values()]\n",
    "        self.counts = self.counts.fillna(0)\n",
    "        self.counts.iloc[:, 1] = self.counts.iloc[:, 0] + self.counts.iloc[:, 1]\n",
    "        self.counts.drop('Ayrshire & Arran', axis=1, inplace=True)\n",
    "        self.counts.rename({self.counts.columns[0]:self.counts.columns[0].replace('\\xa0', ' ')},axis=1, inplace=True)\n",
    "        self.counts = self.counts.astype('int')\n",
    "        self.counts.index.name = 'date'\n",
    "        self.counts.columns.name = 'Health board'\n",
    "        \n",
    "    def __repr__(self):\n",
    "        return str(self.results)\n",
    "    \n",
    "    def to_netcdf(self, file_name: str = 'Scotland_COVID-19.nc'):\n",
    "        dataset = xr.Dataset({'counts': self.counts})\n",
    "        dataset['deaths'] = xr.DataArray(self.deaths)\n",
    "        dataset['tests'] = xr.DataArray(self.tests)\n",
    "        dataset.to_netcdf(file_name)"
   ]
  },
  {
   "cell_type": "code",
   "execution_count": 7,
   "metadata": {},
   "outputs": [
    {
     "name": "stdout",
     "output_type": "stream",
     "text": [
      "20200306\n",
      " 6 March 2020\n",
      "20200307\n",
      " 7 March 2020\n",
      "20200308\n",
      " 8 March 2020\n",
      "20200309\n",
      " 9 March 2020\n",
      "20200310\n",
      "10 March 2020\n",
      "20200311\n",
      "11 March 2020\n",
      "20200312\n",
      "12 March 2020\n",
      "20200313\n",
      "13 March 2020\n",
      "20200314\n",
      "14 March 2020\n",
      "20200315\n",
      "15 March 2020\n",
      "20200316\n",
      "16 March 2020\n",
      "20200317\n",
      "17 March 2020\n",
      "20200318\n",
      "18 March 2020\n",
      "20200319\n",
      "19 March 2020\n",
      "Latest\n",
      "20 March 2020\n"
     ]
    }
   ],
   "source": [
    "results = []\n",
    "for date in range(20200306,20200320):\n",
    "    results.append(ScotlandCOVID19.from_date(str(date)))\n",
    "results.append(ScotlandCOVID19.from_latest_government())"
   ]
  },
  {
   "cell_type": "code",
   "execution_count": 95,
   "metadata": {},
   "outputs": [],
   "source": [
    "all_results = ScotlandCOVID19Results(results)"
   ]
  },
  {
   "cell_type": "code",
   "execution_count": 96,
   "metadata": {},
   "outputs": [],
   "source": [
    "all_results.to_netcdf()"
   ]
  },
  {
   "cell_type": "code",
   "execution_count": 99,
   "metadata": {},
   "outputs": [],
   "source": [
    "covid_dataset = xr.load_dataset('Scotland_COVID-19.nc')"
   ]
  },
  {
   "cell_type": "code",
   "execution_count": 102,
   "metadata": {},
   "outputs": [
    {
     "data": {
      "text/plain": [
       "[<matplotlib.lines.Line2D at 0x22acc9ef358>]"
      ]
     },
     "execution_count": 102,
     "metadata": {},
     "output_type": "execute_result"
    },
    {
     "data": {
      "image/png": "[encoded data removed]",
      "text/plain": [
       "<Figure size 864x576 with 1 Axes>"
      ]
     },
     "metadata": {
      "needs_background": "light"
     },
     "output_type": "display_data"
    }
   ],
   "source": [
    "covid_dataset.tests.plot(figsize=(12,8))"
   ]
  },
  {
   "cell_type": "code",
   "execution_count": 106,
   "metadata": {},
   "outputs": [
    {
     "name": "stdout",
     "output_type": "stream",
     "text": [
      "Daily increase in number of test concluded\n"
     ]
    },
    {
     "data": {
      "text/plain": [
       "date\n",
       "2020-03-07    155\n",
       "2020-03-08    277\n",
       "2020-03-09    144\n",
       "2020-03-10    133\n",
       "2020-03-11     82\n",
       "2020-03-12    576\n",
       "2020-03-13    422\n",
       "2020-03-14    401\n",
       "2020-03-15    525\n",
       "2020-03-16    655\n",
       "2020-03-17    351\n",
       "2020-03-18    845\n",
       "2020-03-19    681\n",
       "2020-03-20    778\n",
       "Name: Tests concluded, dtype: int32"
      ]
     },
     "execution_count": 106,
     "metadata": {},
     "output_type": "execute_result"
    }
   ],
   "source": [
    "print(\"Daily increase in number of test concluded\")\n",
    "all_results.tests.diff()[1:].astype('int')"
   ]
  },
  {
   "cell_type": "raw",
   "metadata": {},
   "source": [
    "all_results.deaths.plot(color='r', title='Total number of deaths of patients who tested positive for COVID-19', grid=True, figsize=(12, 8))"
   ]
  },
  {
   "cell_type": "code",
   "execution_count": 20,
   "metadata": {},
   "outputs": [
    {
     "data": {
      "text/plain": [
       "<matplotlib.axes._subplots.AxesSubplot at 0x7fdad28dc9d0>"
      ]
     },
     "execution_count": 20,
     "metadata": {},
     "output_type": "execute_result"
    },
    {
     "data": {
      "image/png": "[encoded data removed]",
      "text/plain": [
       "<Figure size 864x576 with 1 Axes>"
      ]
     },
     "metadata": {
      "needs_background": "light"
     },
     "output_type": "display_data"
    }
   ],
   "source": [
    "all_results.counts.plot(figsize=(12,8), title='COVID-19 Confirmed cases by Health board Scotland', grid=True)"
   ]
  },
  {
   "cell_type": "code",
   "execution_count": 21,
   "metadata": {},
   "outputs": [
    {
     "data": {
      "text/plain": [
       "<matplotlib.axes._subplots.AxesSubplot at 0x7fdad27d8690>"
      ]
     },
     "execution_count": 21,
     "metadata": {},
     "output_type": "execute_result"
    },
    {
     "data": {
      "image/png": "[encoded data removed]",
      "text/plain": [
       "<Figure size 864x576 with 1 Axes>"
      ]
     },
     "metadata": {
      "needs_background": "light"
     },
     "output_type": "display_data"
    }
   ],
   "source": [
    "all_results.counts.sum(axis=1).plot(figsize=(12,8), title='COVID-19 all Confirmed cases Scotland', grid=True)"
   ]
  },
  {
   "cell_type": "code",
   "execution_count": 22,
   "metadata": {},
   "outputs": [],
   "source": [
    "def calculate_percentage_increases(covid_data: pd.DataFrame) -> pd.DataFrame:\n",
    "    \"\"\"Approach gives 100% for first confirmed case, not ideal\"\"\"\n",
    "    percentage_increases = []\n",
    "    for index in range(1, len(covid_data)):\n",
    "        percentage_increases.append(round(\n",
    "            (covid_data.iloc[index] - covid_data.iloc[index - 1, :]) /covid_data.iloc[index, :] * 100 ,2))\n",
    "    percentage_increases = pd.concat(percentage_increases, axis=1)\n",
    "    percentage_increases.columns = covid_data.index[1:]\n",
    "    percentage_increases.columns.name = 'Daily % increase'\n",
    "    percentage_increases.index.name = 'Health Board'\n",
    "    return percentage_increases"
   ]
  },
  {
   "cell_type": "code",
   "execution_count": 23,
   "metadata": {},
   "outputs": [
    {
     "data": {
      "text/html": [
       "<div>\n",
       "<style scoped>\n",
       "    .dataframe tbody tr th:only-of-type {\n",
       "        vertical-align: middle;\n",
       "    }\n",
       "\n",
       "    .dataframe tbody tr th {\n",
       "        vertical-align: top;\n",
       "    }\n",
       "\n",
       "    .dataframe thead th {\n",
       "        text-align: right;\n",
       "    }\n",
       "</style>\n",
       "<table border=\"1\" class=\"dataframe\">\n",
       "  <thead>\n",
       "    <tr style=\"text-align: right;\">\n",
       "      <th>Daily % increase</th>\n",
       "      <th>2020-03-07</th>\n",
       "      <th>2020-03-08</th>\n",
       "      <th>2020-03-09</th>\n",
       "      <th>2020-03-10</th>\n",
       "      <th>2020-03-11</th>\n",
       "      <th>2020-03-12</th>\n",
       "      <th>2020-03-13</th>\n",
       "      <th>2020-03-14</th>\n",
       "      <th>2020-03-15</th>\n",
       "      <th>2020-03-16</th>\n",
       "      <th>2020-03-17</th>\n",
       "      <th>2020-03-18</th>\n",
       "      <th>2020-03-19</th>\n",
       "      <th>2020-03-20</th>\n",
       "    </tr>\n",
       "    <tr>\n",
       "      <th>Health Board</th>\n",
       "      <th></th>\n",
       "      <th></th>\n",
       "      <th></th>\n",
       "      <th></th>\n",
       "      <th></th>\n",
       "      <th></th>\n",
       "      <th></th>\n",
       "      <th></th>\n",
       "      <th></th>\n",
       "      <th></th>\n",
       "      <th></th>\n",
       "      <th></th>\n",
       "      <th></th>\n",
       "      <th></th>\n",
       "    </tr>\n",
       "  </thead>\n",
       "  <tbody>\n",
       "    <tr>\n",
       "      <th>Ayrshire and Arran</th>\n",
       "      <td>0</td>\n",
       "      <td>0.00</td>\n",
       "      <td>0</td>\n",
       "      <td>0.00</td>\n",
       "      <td>66.67</td>\n",
       "      <td>25.00</td>\n",
       "      <td>0.00</td>\n",
       "      <td>33.33</td>\n",
       "      <td>0.00</td>\n",
       "      <td>14.29</td>\n",
       "      <td>-16.67</td>\n",
       "      <td>33.33</td>\n",
       "      <td>25.00</td>\n",
       "      <td>25.00</td>\n",
       "    </tr>\n",
       "    <tr>\n",
       "      <th>Borders</th>\n",
       "      <td>NaN</td>\n",
       "      <td>NaN</td>\n",
       "      <td>NaN</td>\n",
       "      <td>NaN</td>\n",
       "      <td>First Case Confirmed</td>\n",
       "      <td>0.00</td>\n",
       "      <td>33.33</td>\n",
       "      <td>40</td>\n",
       "      <td>28.57</td>\n",
       "      <td>0</td>\n",
       "      <td>0.00</td>\n",
       "      <td>0.00</td>\n",
       "      <td>12.50</td>\n",
       "      <td>11.11</td>\n",
       "    </tr>\n",
       "    <tr>\n",
       "      <th>Dumfries and Galloway</th>\n",
       "      <td>NaN</td>\n",
       "      <td>NaN</td>\n",
       "      <td>NaN</td>\n",
       "      <td>NaN</td>\n",
       "      <td>NaN</td>\n",
       "      <td>NaN</td>\n",
       "      <td>NaN</td>\n",
       "      <td>NaN</td>\n",
       "      <td>NaN</td>\n",
       "      <td>First Case Confirmed</td>\n",
       "      <td>0.00</td>\n",
       "      <td>75.00</td>\n",
       "      <td>33.33</td>\n",
       "      <td>40.00</td>\n",
       "    </tr>\n",
       "    <tr>\n",
       "      <th>Fife</th>\n",
       "      <td>0</td>\n",
       "      <td>0.00</td>\n",
       "      <td>0</td>\n",
       "      <td>0.00</td>\n",
       "      <td>0</td>\n",
       "      <td>33.33</td>\n",
       "      <td>25.00</td>\n",
       "      <td>33.33</td>\n",
       "      <td>14.29</td>\n",
       "      <td>0</td>\n",
       "      <td>0.00</td>\n",
       "      <td>12.50</td>\n",
       "      <td>11.11</td>\n",
       "      <td>25.00</td>\n",
       "    </tr>\n",
       "    <tr>\n",
       "      <th>Forth Valley</th>\n",
       "      <td>0</td>\n",
       "      <td>0.00</td>\n",
       "      <td>0</td>\n",
       "      <td>0.00</td>\n",
       "      <td>0</td>\n",
       "      <td>66.67</td>\n",
       "      <td>0.00</td>\n",
       "      <td>0</td>\n",
       "      <td>40.00</td>\n",
       "      <td>0</td>\n",
       "      <td>16.67</td>\n",
       "      <td>20.00</td>\n",
       "      <td>11.76</td>\n",
       "      <td>26.09</td>\n",
       "    </tr>\n",
       "    <tr>\n",
       "      <th>Grampian</th>\n",
       "      <td>25</td>\n",
       "      <td>0.00</td>\n",
       "      <td>0</td>\n",
       "      <td>33.33</td>\n",
       "      <td>0</td>\n",
       "      <td>14.29</td>\n",
       "      <td>36.36</td>\n",
       "      <td>-22.22</td>\n",
       "      <td>25.00</td>\n",
       "      <td>0</td>\n",
       "      <td>45.45</td>\n",
       "      <td>8.33</td>\n",
       "      <td>-33.33</td>\n",
       "      <td>5.26</td>\n",
       "    </tr>\n",
       "    <tr>\n",
       "      <th>Greater Glasgow and Clyde</th>\n",
       "      <td>50</td>\n",
       "      <td>33.33</td>\n",
       "      <td>0</td>\n",
       "      <td>0.00</td>\n",
       "      <td>40</td>\n",
       "      <td>50.00</td>\n",
       "      <td>52.38</td>\n",
       "      <td>32.26</td>\n",
       "      <td>20.51</td>\n",
       "      <td>11.36</td>\n",
       "      <td>10.20</td>\n",
       "      <td>14.04</td>\n",
       "      <td>19.72</td>\n",
       "      <td>21.98</td>\n",
       "    </tr>\n",
       "    <tr>\n",
       "      <th>Highland</th>\n",
       "      <td>NaN</td>\n",
       "      <td>NaN</td>\n",
       "      <td>NaN</td>\n",
       "      <td>NaN</td>\n",
       "      <td>NaN</td>\n",
       "      <td>NaN</td>\n",
       "      <td>NaN</td>\n",
       "      <td>First Case Confirmed</td>\n",
       "      <td>50.00</td>\n",
       "      <td>0</td>\n",
       "      <td>60.00</td>\n",
       "      <td>0.00</td>\n",
       "      <td>16.67</td>\n",
       "      <td>0.00</td>\n",
       "    </tr>\n",
       "    <tr>\n",
       "      <th>Lanarkshire</th>\n",
       "      <td>First Case Confirmed</td>\n",
       "      <td>0.00</td>\n",
       "      <td>33.33</td>\n",
       "      <td>0.00</td>\n",
       "      <td>25</td>\n",
       "      <td>42.86</td>\n",
       "      <td>0.00</td>\n",
       "      <td>30</td>\n",
       "      <td>37.50</td>\n",
       "      <td>20</td>\n",
       "      <td>4.76</td>\n",
       "      <td>16.00</td>\n",
       "      <td>24.24</td>\n",
       "      <td>19.51</td>\n",
       "    </tr>\n",
       "    <tr>\n",
       "      <th>Lothian</th>\n",
       "      <td>50</td>\n",
       "      <td>33.33</td>\n",
       "      <td>40</td>\n",
       "      <td>28.57</td>\n",
       "      <td>12.5</td>\n",
       "      <td>27.27</td>\n",
       "      <td>45.00</td>\n",
       "      <td>20</td>\n",
       "      <td>10.71</td>\n",
       "      <td>3.45</td>\n",
       "      <td>3.33</td>\n",
       "      <td>9.09</td>\n",
       "      <td>5.71</td>\n",
       "      <td>12.50</td>\n",
       "    </tr>\n",
       "    <tr>\n",
       "      <th>Shetland</th>\n",
       "      <td>NaN</td>\n",
       "      <td>NaN</td>\n",
       "      <td>First Case Confirmed</td>\n",
       "      <td>0.00</td>\n",
       "      <td>0</td>\n",
       "      <td>66.67</td>\n",
       "      <td>0.00</td>\n",
       "      <td>45.45</td>\n",
       "      <td>0.00</td>\n",
       "      <td>26.67</td>\n",
       "      <td>0.00</td>\n",
       "      <td>6.25</td>\n",
       "      <td>33.33</td>\n",
       "      <td>0.00</td>\n",
       "    </tr>\n",
       "    <tr>\n",
       "      <th>Tayside</th>\n",
       "      <td>0</td>\n",
       "      <td>0.00</td>\n",
       "      <td>0</td>\n",
       "      <td>0.00</td>\n",
       "      <td>50</td>\n",
       "      <td>50.00</td>\n",
       "      <td>-33.33</td>\n",
       "      <td>72.73</td>\n",
       "      <td>26.67</td>\n",
       "      <td>11.76</td>\n",
       "      <td>15.00</td>\n",
       "      <td>16.67</td>\n",
       "      <td>11.11</td>\n",
       "      <td>12.90</td>\n",
       "    </tr>\n",
       "  </tbody>\n",
       "</table>\n",
       "</div>"
      ],
      "text/plain": [
       "Daily % increase                     2020-03-07  2020-03-08  \\\n",
       "Health Board                                                  \n",
       "Ayrshire and Arran                            0        0.00   \n",
       "Borders                                     NaN         NaN   \n",
       "Dumfries and Galloway                       NaN         NaN   \n",
       "Fife                                          0        0.00   \n",
       "Forth Valley                                  0        0.00   \n",
       "Grampian                                     25        0.00   \n",
       "Greater Glasgow and Clyde                    50       33.33   \n",
       "Highland                                    NaN         NaN   \n",
       "Lanarkshire                First Case Confirmed        0.00   \n",
       "Lothian                                      50       33.33   \n",
       "Shetland                                    NaN         NaN   \n",
       "Tayside                                       0        0.00   \n",
       "\n",
       "Daily % increase                     2020-03-09  2020-03-10  \\\n",
       "Health Board                                                  \n",
       "Ayrshire and Arran                            0        0.00   \n",
       "Borders                                     NaN         NaN   \n",
       "Dumfries and Galloway                       NaN         NaN   \n",
       "Fife                                          0        0.00   \n",
       "Forth Valley                                  0        0.00   \n",
       "Grampian                                      0       33.33   \n",
       "Greater Glasgow and Clyde                     0        0.00   \n",
       "Highland                                    NaN         NaN   \n",
       "Lanarkshire                               33.33        0.00   \n",
       "Lothian                                      40       28.57   \n",
       "Shetland                   First Case Confirmed        0.00   \n",
       "Tayside                                       0        0.00   \n",
       "\n",
       "Daily % increase                     2020-03-11  2020-03-12  2020-03-13  \\\n",
       "Health Board                                                              \n",
       "Ayrshire and Arran                        66.67       25.00        0.00   \n",
       "Borders                    First Case Confirmed        0.00       33.33   \n",
       "Dumfries and Galloway                       NaN         NaN         NaN   \n",
       "Fife                                          0       33.33       25.00   \n",
       "Forth Valley                                  0       66.67        0.00   \n",
       "Grampian                                      0       14.29       36.36   \n",
       "Greater Glasgow and Clyde                    40       50.00       52.38   \n",
       "Highland                                    NaN         NaN         NaN   \n",
       "Lanarkshire                                  25       42.86        0.00   \n",
       "Lothian                                    12.5       27.27       45.00   \n",
       "Shetland                                      0       66.67        0.00   \n",
       "Tayside                                      50       50.00      -33.33   \n",
       "\n",
       "Daily % increase                     2020-03-14  2020-03-15  \\\n",
       "Health Board                                                  \n",
       "Ayrshire and Arran                        33.33        0.00   \n",
       "Borders                                      40       28.57   \n",
       "Dumfries and Galloway                       NaN         NaN   \n",
       "Fife                                      33.33       14.29   \n",
       "Forth Valley                                  0       40.00   \n",
       "Grampian                                 -22.22       25.00   \n",
       "Greater Glasgow and Clyde                 32.26       20.51   \n",
       "Highland                   First Case Confirmed       50.00   \n",
       "Lanarkshire                                  30       37.50   \n",
       "Lothian                                      20       10.71   \n",
       "Shetland                                  45.45        0.00   \n",
       "Tayside                                   72.73       26.67   \n",
       "\n",
       "Daily % increase                     2020-03-16  2020-03-17  2020-03-18  \\\n",
       "Health Board                                                              \n",
       "Ayrshire and Arran                        14.29      -16.67       33.33   \n",
       "Borders                                       0        0.00        0.00   \n",
       "Dumfries and Galloway      First Case Confirmed        0.00       75.00   \n",
       "Fife                                          0        0.00       12.50   \n",
       "Forth Valley                                  0       16.67       20.00   \n",
       "Grampian                                      0       45.45        8.33   \n",
       "Greater Glasgow and Clyde                 11.36       10.20       14.04   \n",
       "Highland                                      0       60.00        0.00   \n",
       "Lanarkshire                                  20        4.76       16.00   \n",
       "Lothian                                    3.45        3.33        9.09   \n",
       "Shetland                                  26.67        0.00        6.25   \n",
       "Tayside                                   11.76       15.00       16.67   \n",
       "\n",
       "Daily % increase           2020-03-19  2020-03-20  \n",
       "Health Board                                       \n",
       "Ayrshire and Arran              25.00       25.00  \n",
       "Borders                         12.50       11.11  \n",
       "Dumfries and Galloway           33.33       40.00  \n",
       "Fife                            11.11       25.00  \n",
       "Forth Valley                    11.76       26.09  \n",
       "Grampian                       -33.33        5.26  \n",
       "Greater Glasgow and Clyde       19.72       21.98  \n",
       "Highland                        16.67        0.00  \n",
       "Lanarkshire                     24.24       19.51  \n",
       "Lothian                          5.71       12.50  \n",
       "Shetland                        33.33        0.00  \n",
       "Tayside                         11.11       12.90  "
      ]
     },
     "execution_count": 23,
     "metadata": {},
     "output_type": "execute_result"
    }
   ],
   "source": [
    "percentage_increases = calculate_percentage_increases(all_results.counts)\n",
    "percentage_increases_numbers = percentage_increases.copy()\n",
    "percentage_increases = percentage_increases.replace(100,'First Case Confirmed')\n",
    "percentage_increases"
   ]
  },
  {
   "cell_type": "code",
   "execution_count": 24,
   "metadata": {},
   "outputs": [
    {
     "data": {
      "text/plain": [
       "Health Board\n",
       "Ayrshire and Arran           14\n",
       "Borders                      10\n",
       "Dumfries and Galloway         5\n",
       "Fife                         14\n",
       "Forth Valley                 14\n",
       "Grampian                     14\n",
       "Greater Glasgow and Clyde    14\n",
       "Highland                      7\n",
       "Lanarkshire                  14\n",
       "Lothian                      14\n",
       "Shetland                     12\n",
       "Tayside                      14\n",
       "Name: Minimum number of days of confirmed cases, dtype: int64"
      ]
     },
     "execution_count": 24,
     "metadata": {},
     "output_type": "execute_result"
    }
   ],
   "source": [
    "min_days_present = (~percentage_increases.isna()).sum(axis=1)\n",
    "min_days_present.name = 'Minimum number of days of confirmed cases'\n",
    "min_days_present"
   ]
  },
  {
   "cell_type": "code",
   "execution_count": 25,
   "metadata": {},
   "outputs": [
    {
     "name": "stdout",
     "output_type": "stream",
     "text": [
      "Ignores the first confirmed case in each health board.\n"
     ]
    },
    {
     "data": {
      "text/plain": [
       "Mean Daily % increase\n",
       "2020-03-07    28.12\n",
       "2020-03-08     8.33\n",
       "2020-03-09    19.26\n",
       "2020-03-10     6.88\n",
       "2020-03-11    29.42\n",
       "2020-03-12    37.61\n",
       "2020-03-13    15.87\n",
       "2020-03-14    34.99\n",
       "2020-03-15    23.02\n",
       "2020-03-16    15.63\n",
       "2020-03-17    11.56\n",
       "2020-03-18    17.60\n",
       "2020-03-19    14.26\n",
       "2020-03-20    16.61\n",
       "Name: Mean % increase Scotland wide, dtype: float64"
      ]
     },
     "execution_count": 25,
     "metadata": {},
     "output_type": "execute_result"
    }
   ],
   "source": [
    "mean_daily_increase_across_scotland = round(percentage_increases_numbers.mean(), 2)\n",
    "mean_daily_increase_across_scotland.name = \"Mean % increase Scotland wide\"\n",
    "mean_daily_increase_across_scotland.index.name = 'Mean Daily % increase'\n",
    "print(\"Ignores the first confirmed case in each health board.\")\n",
    "mean_daily_increase_across_scotland"
   ]
  },
  {
   "cell_type": "code",
   "execution_count": 26,
   "metadata": {},
   "outputs": [
    {
     "data": {
      "text/plain": [
       "Health Board\n",
       "Ayrshire and Arran           10.18\n",
       "Tayside                      11.00\n",
       "Borders                      12.22\n",
       "Shetland                     13.28\n",
       "Fife                         13.47\n",
       "Grampian                     14.97\n",
       "Lanarkshire                  16.10\n",
       "Lothian                      19.50\n",
       "Forth Valley                 20.13\n",
       "Greater Glasgow and Clyde    24.68\n",
       "Highland                     25.33\n",
       "Dumfries and Galloway        37.08\n",
       "Name: Mean % increase 6-20th March, dtype: float64"
      ]
     },
     "execution_count": 26,
     "metadata": {},
     "output_type": "execute_result"
    }
   ],
   "source": [
    "mean_daily_percent_increase_by_board = round(\n",
    "    percentage_increases.mean(axis=1), 2)\n",
    "mean_daily_percent_increase_by_board.name = \"Mean % increase 6-20th March\"\n",
    "mean_daily_percent_increase_by_board.sort_values()"
   ]
  },
  {
   "cell_type": "code",
   "execution_count": 27,
   "metadata": {},
   "outputs": [
    {
     "data": {
      "text/plain": [
       "            Deaths of confirmed cases  Tests concluded\n",
       "2020-03-06                          0             1525\n",
       "2020-03-07                          0             1680\n",
       "2020-03-08                          0             1957\n",
       "2020-03-09                          0             2101\n",
       "2020-03-10                          0             2234\n",
       "2020-03-11                          0             2316\n",
       "2020-03-12                          0             2892\n",
       "2020-03-13                          1             3314\n",
       "2020-03-14                          1             3715\n",
       "2020-03-15                          1             4240\n",
       "2020-03-16                          1             4895\n",
       "2020-03-17                          2             5246\n",
       "2020-03-18                          3             6091\n",
       "2020-03-19                          6             6772\n",
       "2020-03-20                          6             7550"
      ]
     },
     "execution_count": 27,
     "metadata": {},
     "output_type": "execute_result"
    }
   ],
   "source": [
    "all_results"
   ]
  },
  {
   "cell_type": "code",
   "execution_count": null,
   "metadata": {},
   "outputs": [],
   "source": []
  }
 ],
 "metadata": {
  "kernelspec": {
   "display_name": "Python 3",
   "language": "python",
   "name": "python3"
  },
  "language_info": {
   "codemirror_mode": {
    "name": "ipython",
    "version": 3
   },
   "file_extension": ".py",
   "mimetype": "text/x-python",
   "name": "python",
   "nbconvert_exporter": "python",
   "pygments_lexer": "ipython3",
   "version": "3.7.1"
  }
 },
 "nbformat": 4,
 "nbformat_minor": 4
}
