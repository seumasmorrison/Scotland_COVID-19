{
 "cells": [
  {
   "cell_type": "markdown",
   "metadata": {},
   "source": [
    "Data on confirmed COVID-19 cases in Scotland by Health board taken from the Web Archive [WayBackMachine](https://web.archive.org/web/*/https://www. gov.scot/coronavirus-covid-19/) capture of the Scottish Government published health board data published since 2020-03-05 ( broken down by specific health boards )."
   ]
  },
  {
   "cell_type": "code",
   "execution_count": 3,
   "metadata": {},
   "outputs": [
    {
     "name": "stdout",
     "output_type": "stream",
     "text": [
      "Requirement already satisfied: html2text in c:\\programdata\\anaconda3\\lib\\site-packages (2020.1.16)\n",
      "Requirement already satisfied: lxml in c:\\programdata\\anaconda3\\lib\\site-packages (4.3.2)\n",
      "Requirement already satisfied: matplotlib in c:\\programdata\\anaconda3\\lib\\site-packages (3.0.3)\n",
      "Requirement already satisfied: pandas in c:\\programdata\\anaconda3\\lib\\site-packages (1.0.0)\n",
      "Requirement already satisfied: word2number in c:\\programdata\\anaconda3\\lib\\site-packages (1.1)\n",
      "Requirement already satisfied: numpy>=1.10.0 in c:\\programdata\\anaconda3\\lib\\site-packages (from matplotlib) (1.17.0)\n",
      "Requirement already satisfied: cycler>=0.10 in c:\\programdata\\anaconda3\\lib\\site-packages (from matplotlib) (0.10.0)\n",
      "Requirement already satisfied: kiwisolver>=1.0.1 in c:\\programdata\\anaconda3\\lib\\site-packages (from matplotlib) (1.0.1)\n",
      "Requirement already satisfied: pyparsing!=2.0.4,!=2.1.2,!=2.1.6,>=2.0.1 in c:\\programdata\\anaconda3\\lib\\site-packages (from matplotlib) (2.3.1)\n",
      "Requirement already satisfied: python-dateutil>=2.1 in c:\\programdata\\anaconda3\\lib\\site-packages (from matplotlib) (2.8.0)\n",
      "Requirement already satisfied: pytz>=2017.2 in c:\\programdata\\anaconda3\\lib\\site-packages (from pandas) (2018.9)\n",
      "Requirement already satisfied: six in c:\\programdata\\anaconda3\\lib\\site-packages (from cycler>=0.10->matplotlib) (1.12.0)\n",
      "Requirement already satisfied: setuptools in c:\\programdata\\anaconda3\\lib\\site-packages (from kiwisolver>=1.0.1->matplotlib) (40.8.0)\n",
      "Note: you may need to restart the kernel to use updated packages.\n"
     ]
    }
   ],
   "source": [
    "pip install html2text geopandas lxml matplotlib pandas word2number xarray "
   ]
  },
  {
   "cell_type": "code",
   "execution_count": 19,
   "metadata": {},
   "outputs": [],
   "source": [
    "from datetime import datetime\n",
    "from pathlib import Path\n",
    "\n",
    "from html2text import html2text\n",
    "from dateutil import parser\n",
    "from word2number import w2n\n",
    "import geopandas as gpd\n",
    "import pandas as pd\n",
    "import urllib\n",
    "import xarray as xr"
   ]
  },
  {
   "cell_type": "code",
   "execution_count": 5,
   "metadata": {},
   "outputs": [],
   "source": [
    "class ScotlandCOVID19():\n",
    "    \n",
    "    def __init__(self, html: str, archive_copy: bool = False, date_requested: str = None):\n",
    "        self.html = html\n",
    "        self.date_requested = date_requested\n",
    "        self.lines = self.parse_html()\n",
    "        self.archive_copy = archive_copy\n",
    "        self.date = self.parse_date()\n",
    "        self.counts = self.get_counts()\n",
    "        self.deaths = self.get_number_of_deaths()\n",
    "        self.tests = self.get_num_tests()\n",
    "        \n",
    "    def __repr__(self):\n",
    "        return \"Date: \" + str(self.date)[:10] + \"\\nNumbe of tests concluded to date: \" + str(self.tests) + \\\n",
    "            \"\\nPatient deaths of confirmed cases to date: \" + str(self.deaths) + \\\n",
    "            \"\\n\" + str(self.counts)\n",
    "        \n",
    "    @classmethod\n",
    "    def from_latest_government(cls):\n",
    "        print(\"Latest\")\n",
    "        html = str(urllib.request.urlopen('https://www.gov.scot/coronavirus-covid-19').read())\n",
    "        return cls(html)\n",
    "        \n",
    "    @classmethod\n",
    "    def from_date(cls, date: str):\n",
    "        print(date)\n",
    "        url =  \"https://web.archive.org/web/\" + date + \\\n",
    "            \"/https://www.gov.scot/coronavirus-covid-19\"\n",
    "        html = str(urllib.request.urlopen(url).read())\n",
    "        return cls(html, archive_copy=True, date_requested=date)\n",
    "\n",
    "    def parse_html(self) -> list:\n",
    "        lines = html2text(self.html).replace('\\n','').split('\\\\n')\n",
    "        new_lines = []\n",
    "        for line in lines:\n",
    "            if line != '':\n",
    "                new_lines.append(lines)\n",
    "        return new_lines\n",
    "    \n",
    "    def parse_date(self) -> str:\n",
    "        \"\"\"Parses the publication date from the line below the published table\"\"\"\n",
    "        for line in self.lines:\n",
    "            line = ''.join(line)\n",
    "            if 'updated' in line:\n",
    "                index = line.find('Last updated')\n",
    "                if index != -1:\n",
    "                    substring = line[index + 10: index + 50].split('.')[0][-13:]\n",
    "                    print(substring)\n",
    "                    return pd.to_datetime(substring)\n",
    "        \n",
    "    def get_number_of_deaths(self) -> int:\n",
    "        index = self.html.find('Sadly,')\n",
    "        if index != -1:\n",
    "            return w2n.word_to_num(self.html[index+7:index+20].split(' ')[0])\n",
    "        index = self.html.find('patients who')\n",
    "        if index != -1:\n",
    "            return int(self.html[index-5:index].split('>')[1])\n",
    "        return 0\n",
    "    \n",
    "    def get_num_tests(self) -> int:\n",
    "        index = self.html.find('A total of')\n",
    "        substring = self.html[index+11:index+21].split()[0]\n",
    "        for char in [';','>']:\n",
    "            if char in substring:\n",
    "                substring = substring.split(char)[1]\n",
    "        return int(substring.replace(',',''))\n",
    "    \n",
    "    def get_counts(self) -> pd.DataFrame:\n",
    "        tables = pd.read_html(self.html)\n",
    "        if len(tables) >= 3 and self.archive_copy:\n",
    "            counts = tables[2]\n",
    "        elif len(tables) > 0: \n",
    "            counts = tables[0]\n",
    "        counts = counts.set_index(counts.columns[0])\n",
    "        counts.columns.name = counts.columns[0]\n",
    "        counts.columns = [self.date]\n",
    "        return counts"
   ]
  },
  {
   "cell_type": "code",
   "execution_count": 98,
   "metadata": {},
   "outputs": [],
   "source": [
    "class ScotlandCOVID19Results():\n",
    "    \n",
    "    def __init__(self, results):\n",
    "        deaths = {}\n",
    "        tests = {}\n",
    "        counts = []\n",
    "        for result in results:\n",
    "            deaths[result.date] = result.deaths\n",
    "            tests[result.date] = result.tests\n",
    "            counts.append(result.counts)\n",
    "        self.deaths = pd.Series(deaths, name='Deaths of confirmed cases')\n",
    "        self.deaths.index.name = 'date'\n",
    "        self.tests = pd.Series(tests, name='Tests concluded')\n",
    "        self.tests.index.name = 'date'\n",
    "        self.results = pd.concat([self.deaths, self.tests], axis=1)\n",
    "        self.counts = pd.concat(counts,axis=1).transpose()\n",
    "        self.counts = self.counts[self.counts.columns.sort_values()]\n",
    "        self.counts = self.counts.fillna(0)\n",
    "        self.counts.iloc[:, 1] = self.counts.iloc[:, 0] + self.counts.iloc[:, 1]\n",
    "        self.counts.drop('Ayrshire & Arran', axis=1, inplace=True)\n",
    "        self.counts.rename({self.counts.columns[0]:self.counts.columns[0].replace('\\xa0', ' ')},axis=1, inplace=True)\n",
    "        self.counts = self.counts.astype('int')\n",
    "        self.counts.index.name = 'date'\n",
    "        self.counts.columns.name = 'Health board'\n",
    "        \n",
    "    def __repr__(self):\n",
    "        return str(self.results)\n",
    "    \n",
    "    def to_netcdf(self, file_name: str = 'Scotland_COVID-19.nc'):\n",
    "        dataset = xr.Dataset({'counts': self.counts})\n",
    "        dataset['deaths'] = xr.DataArray(self.deaths)\n",
    "        dataset['tests'] = xr.DataArray(self.tests)\n",
    "        dataset.to_netcdf(file_name)"
   ]
  },
  {
   "cell_type": "code",
   "execution_count": 399,
   "metadata": {},
   "outputs": [
    {
     "data": {
      "text/plain": [
       "793"
      ]
     },
     "execution_count": 399,
     "metadata": {},
     "output_type": "execute_result"
    }
   ],
   "source": [
    "8679-7886"
   ]
  },
  {
   "cell_type": "code",
   "execution_count": 7,
   "metadata": {},
   "outputs": [
    {
     "name": "stdout",
     "output_type": "stream",
     "text": [
      "20200306\n",
      " 6 March 2020\n",
      "20200307\n",
      " 7 March 2020\n",
      "20200308\n",
      " 8 March 2020\n",
      "20200309\n",
      " 9 March 2020\n",
      "20200310\n",
      "10 March 2020\n",
      "20200311\n",
      "11 March 2020\n",
      "20200312\n",
      "12 March 2020\n",
      "20200313\n",
      "13 March 2020\n",
      "20200314\n",
      "14 March 2020\n",
      "20200315\n",
      "15 March 2020\n",
      "20200316\n",
      "16 March 2020\n",
      "20200317\n",
      "17 March 2020\n",
      "20200318\n",
      "18 March 2020\n",
      "20200319\n",
      "19 March 2020\n",
      "Latest\n",
      "20 March 2020\n"
     ]
    }
   ],
   "source": [
    "results = []\n",
    "for date in range(20200306,20200320):\n",
    "    results.append(ScotlandCOVID19.from_date(str(date)))\n",
    "results.append(ScotlandCOVID19.from_latest_government())"
   ]
  },
  {
   "cell_type": "code",
   "execution_count": 391,
   "metadata": {},
   "outputs": [
    {
     "name": "stdout",
     "output_type": "stream",
     "text": [
      "Latest\n",
      "22 March 2020\n"
     ]
    }
   ],
   "source": [
    "results.append(ScotlandCOVID19.from_latest_government())"
   ]
  },
  {
   "cell_type": "code",
   "execution_count": 392,
   "metadata": {},
   "outputs": [],
   "source": [
    "all_results = ScotlandCOVID19Results(results)"
   ]
  },
  {
   "cell_type": "code",
   "execution_count": 453,
   "metadata": {},
   "outputs": [],
   "source": [
    "all_results.to_netcdf()"
   ]
  },
  {
   "cell_type": "code",
   "execution_count": 153,
   "metadata": {},
   "outputs": [],
   "source": [
    "initial_counts = all_results.counts.iloc[0]"
   ]
  },
  {
   "cell_type": "code",
   "execution_count": 157,
   "metadata": {},
   "outputs": [
    {
     "data": {
      "text/plain": [
       "Health Board\n",
       "Ayrshire and Arran            21\n",
       "Borders                       10\n",
       "Dumfries and Galloway         13\n",
       "Fife                          13\n",
       "Forth Valley                  27\n",
       "Grampian                      20\n",
       "Greater Glasgow and Clyde    110\n",
       "Highland                       8\n",
       "Lanarkshire                   49\n",
       "Lothian                       44\n",
       "Shetland                      24\n",
       "Tayside                       34\n",
       "dtype: int64"
      ]
     },
     "execution_count": 157,
     "metadata": {},
     "output_type": "execute_result"
    }
   ],
   "source": [
    "count_difference.sum() + initial_counts"
   ]
  },
  {
   "cell_type": "code",
   "execution_count": 200,
   "metadata": {},
   "outputs": [],
   "source": [
    "wiki_data = pd.read_csv('wikipedia_numbers.csv', index_col=0)"
   ]
  },
  {
   "cell_type": "code",
   "execution_count": 394,
   "metadata": {},
   "outputs": [],
   "source": [
    "differences = pd.DataFrame(count_difference.values - wiki_data[4:].values, index = count_difference.index, columns=count_difference.columns)"
   ]
  },
  {
   "cell_type": "code",
   "execution_count": 402,
   "metadata": {},
   "outputs": [
    {
     "data": {
      "text/plain": [
       "Health board\n",
       "Ayrshire and Arran            25\n",
       "Borders                       11\n",
       "Dumfries and Galloway         16\n",
       "Fife                          16\n",
       "Forth Valley                  30\n",
       "Grampian                      23\n",
       "Greater Glasgow and Clyde    130\n",
       "Highland                       8\n",
       "Lanarkshire                   49\n",
       "Lothian                       46\n",
       "Shetland                      24\n",
       "Tayside                       38\n",
       "Name: 2020-03-22 00:00:00, dtype: int32"
      ]
     },
     "execution_count": 402,
     "metadata": {},
     "output_type": "execute_result"
    }
   ],
   "source": [
    "all_results.counts.iloc[-1]"
   ]
  },
  {
   "cell_type": "code",
   "execution_count": 396,
   "metadata": {},
   "outputs": [
    {
     "data": {
      "text/plain": [
       "Health board\n",
       "Ayrshire and Arran            4.0\n",
       "Borders                       1.0\n",
       "Dumfries and Galloway         3.0\n",
       "Fife                          3.0\n",
       "Forth Valley                  3.0\n",
       "Grampian                      3.0\n",
       "Greater Glasgow and Clyde    20.0\n",
       "Highland                      0.0\n",
       "Lanarkshire                   0.0\n",
       "Lothian                       2.0\n",
       "Shetland                      0.0\n",
       "Tayside                       4.0\n",
       "Name: 2020-03-22 00:00:00, dtype: float64"
      ]
     },
     "execution_count": 396,
     "metadata": {},
     "output_type": "execute_result"
    }
   ],
   "source": [
    "all_results.counts.diff().iloc[-1]"
   ]
  },
  {
   "cell_type": "code",
   "execution_count": 398,
   "metadata": {},
   "outputs": [
    {
     "data": {
      "text/plain": [
       "date\n",
       "2020-03-06      NaN\n",
       "2020-03-07    155.0\n",
       "2020-03-08    277.0\n",
       "2020-03-09    144.0\n",
       "2020-03-10    133.0\n",
       "2020-03-11     82.0\n",
       "2020-03-12    576.0\n",
       "2020-03-13    422.0\n",
       "2020-03-14    401.0\n",
       "2020-03-15    525.0\n",
       "2020-03-16    655.0\n",
       "2020-03-17    351.0\n",
       "2020-03-18    845.0\n",
       "2020-03-19    681.0\n",
       "2020-03-20    778.0\n",
       "2020-03-21    709.0\n",
       "2020-03-22    420.0\n",
       "Name: Tests concluded, dtype: float64"
      ]
     },
     "execution_count": 398,
     "metadata": {},
     "output_type": "execute_result"
    }
   ],
   "source": [
    "all_results.tests.diff()"
   ]
  },
  {
   "cell_type": "code",
   "execution_count": 122,
   "metadata": {},
   "outputs": [
    {
     "data": {
      "text/plain": [
       "Health board\n",
       "Ayrshire and Arran            4\n",
       "Borders                       1\n",
       "Dumfries and Galloway         4\n",
       "Fife                          3\n",
       "Forth Valley                  6\n",
       "Grampian                      1\n",
       "Greater Glasgow and Clyde    20\n",
       "Highland                      0\n",
       "Lanarkshire                   8\n",
       "Lothian                       5\n",
       "Shetland                      0\n",
       "Tayside                       4\n",
       "dtype: int32"
      ]
     },
     "execution_count": 122,
     "metadata": {},
     "output_type": "execute_result"
    }
   ],
   "source": [
    "all_results.counts.iloc[-2] - all_results.counts.iloc[-3].transpose()"
   ]
  },
  {
   "cell_type": "code",
   "execution_count": 119,
   "metadata": {},
   "outputs": [
    {
     "data": {
      "text/plain": [
       "Health board\n",
       "Ayrshire and Arran            5\n",
       "Borders                       1\n",
       "Dumfries and Galloway         3\n",
       "Fife                          1\n",
       "Forth Valley                  4\n",
       "Grampian                      1\n",
       "Greater Glasgow and Clyde    19\n",
       "Highland                      2\n",
       "Lanarkshire                   8\n",
       "Lothian                       4\n",
       "Shetland                      0\n",
       "Tayside                       3\n",
       "dtype: int32"
      ]
     },
     "execution_count": 119,
     "metadata": {},
     "output_type": "execute_result"
    }
   ],
   "source": [
    "all_results.counts.iloc[-1] - all_results.counts.iloc[-2]"
   ]
  },
  {
   "cell_type": "code",
   "execution_count": 136,
   "metadata": {},
   "outputs": [],
   "source": [
    "count_difference = all_results.counts.diff().fillna(0).astype('int')"
   ]
  },
  {
   "cell_type": "code",
   "execution_count": 138,
   "metadata": {},
   "outputs": [],
   "source": [
    "count_difference.to_csv('daily_difference_in_counts.csv')"
   ]
  },
  {
   "cell_type": "code",
   "execution_count": 135,
   "metadata": {},
   "outputs": [],
   "source": [
    "all_results.counts.to_csv('daily_counts_by_health_board.csv')"
   ]
  },
  {
   "cell_type": "code",
   "execution_count": 106,
   "metadata": {},
   "outputs": [
    {
     "name": "stdout",
     "output_type": "stream",
     "text": [
      "Daily increase in number of test concluded\n"
     ]
    },
    {
     "data": {
      "text/plain": [
       "date\n",
       "2020-03-07    155\n",
       "2020-03-08    277\n",
       "2020-03-09    144\n",
       "2020-03-10    133\n",
       "2020-03-11     82\n",
       "2020-03-12    576\n",
       "2020-03-13    422\n",
       "2020-03-14    401\n",
       "2020-03-15    525\n",
       "2020-03-16    655\n",
       "2020-03-17    351\n",
       "2020-03-18    845\n",
       "2020-03-19    681\n",
       "2020-03-20    778\n",
       "Name: Tests concluded, dtype: int32"
      ]
     },
     "execution_count": 106,
     "metadata": {},
     "output_type": "execute_result"
    }
   ],
   "source": [
    "print(\"Daily increase in number of test concluded\")\n",
    "all_results.tests.diff()[1:].astype('int')"
   ]
  },
  {
   "cell_type": "raw",
   "metadata": {},
   "source": [
    "all_results.deaths.plot(color='r', title='Total number of deaths of patients who tested positive for COVID-19', grid=True, figsize=(12, 8))"
   ]
  },
  {
   "cell_type": "code",
   "execution_count": 454,
   "metadata": {},
   "outputs": [
    {
     "data": {
      "text/plain": [
       "<matplotlib.axes._subplots.AxesSubplot at 0x22ad7b3d358>"
      ]
     },
     "execution_count": 454,
     "metadata": {},
     "output_type": "execute_result"
    },
    {
     "data": {
      "image/png": "[encoded data removed]",
      "text/plain": [
       "<Figure size 864x576 with 1 Axes>"
      ]
     },
     "metadata": {
      "needs_background": "light"
     },
     "output_type": "display_data"
    }
   ],
   "source": [
    "all_results.counts.plot(figsize=(12,8), title='COVID-19 Confirmed cases by Health board Scotland', grid=True)"
   ]
  },
  {
   "cell_type": "code",
   "execution_count": 455,
   "metadata": {},
   "outputs": [
    {
     "data": {
      "text/plain": [
       "<matplotlib.axes._subplots.AxesSubplot at 0x22ae9c64080>"
      ]
     },
     "execution_count": 455,
     "metadata": {},
     "output_type": "execute_result"
    },
    {
     "data": {
      "image/png": "[encoded data removed]",
      "text/plain": [
       "<Figure size 864x576 with 1 Axes>"
      ]
     },
     "metadata": {
      "needs_background": "light"
     },
     "output_type": "display_data"
    }
   ],
   "source": [
    "all_results.counts.sum(axis=1).plot(figsize=(12,8), title='COVID-19 all Confirmed cases Scotland', grid=True)"
   ]
  },
  {
   "cell_type": "code",
   "execution_count": 456,
   "metadata": {},
   "outputs": [
    {
     "name": "stdout",
     "output_type": "stream",
     "text": [
      "Daily increase of cases\n"
     ]
    },
    {
     "data": {
      "text/plain": [
       "date\n",
       "2020-03-06     NaN\n",
       "2020-03-07     5.0\n",
       "2020-03-08     2.0\n",
       "2020-03-09     5.0\n",
       "2020-03-10     4.0\n",
       "2020-03-11     9.0\n",
       "2020-03-12    24.0\n",
       "2020-03-13    25.0\n",
       "2020-03-14    36.0\n",
       "2020-03-15    32.0\n",
       "2020-03-16    18.0\n",
       "2020-03-17    24.0\n",
       "2020-03-18    32.0\n",
       "2020-03-19    39.0\n",
       "2020-03-20    56.0\n",
       "2020-03-21    51.0\n",
       "2020-03-22    43.0\n",
       "dtype: float64"
      ]
     },
     "execution_count": 456,
     "metadata": {},
     "output_type": "execute_result"
    }
   ],
   "source": [
    "print(\"Daily increase of cases\")\n",
    "all_results.counts.sum(axis=1).diff()"
   ]
  },
  {
   "cell_type": "code",
   "execution_count": 466,
   "metadata": {},
   "outputs": [
    {
     "name": "stdout",
     "output_type": "stream",
     "text": [
      "Percentage of positive test daily\n"
     ]
    },
    {
     "data": {
      "text/plain": [
       "date\n",
       "2020-03-06          NaN\n",
       "2020-03-07     3.225806\n",
       "2020-03-08     0.722022\n",
       "2020-03-09     3.472222\n",
       "2020-03-10     3.007519\n",
       "2020-03-11    10.975610\n",
       "2020-03-12     4.166667\n",
       "2020-03-13     5.924171\n",
       "2020-03-14     8.977556\n",
       "2020-03-15     6.095238\n",
       "2020-03-16     2.748092\n",
       "2020-03-17     6.837607\n",
       "2020-03-18     3.786982\n",
       "2020-03-19     5.726872\n",
       "2020-03-20     7.197943\n",
       "2020-03-21     7.193230\n",
       "2020-03-22    10.238095\n",
       "dtype: float64"
      ]
     },
     "execution_count": 466,
     "metadata": {},
     "output_type": "execute_result"
    }
   ],
   "source": [
    "print(\"Percentage of positive test daily\")\n",
    "(all_results.counts.sum(axis=1).diff()/all_results.tests.diff() * 100)"
   ]
  },
  {
   "cell_type": "code",
   "execution_count": 457,
   "metadata": {},
   "outputs": [
    {
     "name": "stdout",
     "output_type": "stream",
     "text": [
      "% increase cases across Scotland\n"
     ]
    },
    {
     "data": {
      "text/plain": [
       "date\n",
       "2020-03-07    31.25\n",
       "2020-03-08    11.11\n",
       "2020-03-09    21.74\n",
       "2020-03-10    14.81\n",
       "2020-03-11    25.00\n",
       "2020-03-12    40.00\n",
       "2020-03-13    29.41\n",
       "2020-03-14    29.75\n",
       "2020-03-15    20.92\n",
       "2020-03-16    10.53\n",
       "2020-03-17    12.31\n",
       "2020-03-18    14.10\n",
       "2020-03-19    14.66\n",
       "2020-03-20    17.39\n",
       "2020-03-21    13.67\n",
       "2020-03-22    10.34\n",
       "dtype: float64"
      ]
     },
     "execution_count": 457,
     "metadata": {},
     "output_type": "execute_result"
    }
   ],
   "source": [
    "print(\"% increase cases across Scotland\")\n",
    "round(all_results.counts.sum(axis=1).diff()/all_results.counts.sum(axis=1) * 100, 2)[1:]"
   ]
  },
  {
   "cell_type": "code",
   "execution_count": 146,
   "metadata": {},
   "outputs": [],
   "source": [
    "def calculate_percentage_increases(covid_data: pd.DataFrame) -> pd.DataFrame:\n",
    "    \"\"\"Approach gives 100% for first confirmed case, not ideal\"\"\"\n",
    "    percentage_increases = []\n",
    "    for index in range(1, len(covid_data)):\n",
    "        percentage_increases.append(round(\n",
    "            (covid_data.iloc[index] - covid_data.iloc[index - 1, :]) /covid_data.iloc[index, :] * 100 ,2))\n",
    "    percentage_increases = pd.concat(percentage_increases, axis=1)\n",
    "    percentage_increases.columns = covid_data.index[1:]\n",
    "    percentage_increases.columns.name = 'Daily % increase'\n",
    "    percentage_increases.index.name = 'Health Board'\n",
    "    return percentage_increases"
   ]
  },
  {
   "cell_type": "code",
   "execution_count": 147,
   "metadata": {},
   "outputs": [
    {
     "data": {
      "text/html": [
       "<div>\n",
       "<style scoped>\n",
       "    .dataframe tbody tr th:only-of-type {\n",
       "        vertical-align: middle;\n",
       "    }\n",
       "\n",
       "    .dataframe tbody tr th {\n",
       "        vertical-align: top;\n",
       "    }\n",
       "\n",
       "    .dataframe thead th {\n",
       "        text-align: right;\n",
       "    }\n",
       "</style>\n",
       "<table border=\"1\" class=\"dataframe\">\n",
       "  <thead>\n",
       "    <tr style=\"text-align: right;\">\n",
       "      <th>Daily % increase</th>\n",
       "      <th>2020-03-07</th>\n",
       "      <th>2020-03-08</th>\n",
       "      <th>2020-03-09</th>\n",
       "      <th>2020-03-10</th>\n",
       "      <th>2020-03-11</th>\n",
       "      <th>2020-03-12</th>\n",
       "      <th>2020-03-13</th>\n",
       "      <th>2020-03-14</th>\n",
       "      <th>2020-03-15</th>\n",
       "      <th>2020-03-16</th>\n",
       "      <th>2020-03-17</th>\n",
       "      <th>2020-03-18</th>\n",
       "      <th>2020-03-19</th>\n",
       "      <th>2020-03-20</th>\n",
       "      <th>2020-03-21</th>\n",
       "    </tr>\n",
       "    <tr>\n",
       "      <th>Health Board</th>\n",
       "      <th></th>\n",
       "      <th></th>\n",
       "      <th></th>\n",
       "      <th></th>\n",
       "      <th></th>\n",
       "      <th></th>\n",
       "      <th></th>\n",
       "      <th></th>\n",
       "      <th></th>\n",
       "      <th></th>\n",
       "      <th></th>\n",
       "      <th></th>\n",
       "      <th></th>\n",
       "      <th></th>\n",
       "      <th></th>\n",
       "    </tr>\n",
       "  </thead>\n",
       "  <tbody>\n",
       "    <tr>\n",
       "      <th>Ayrshire and Arran</th>\n",
       "      <td>0</td>\n",
       "      <td>0.00</td>\n",
       "      <td>0</td>\n",
       "      <td>0.00</td>\n",
       "      <td>66.67</td>\n",
       "      <td>25.00</td>\n",
       "      <td>0.00</td>\n",
       "      <td>33.33</td>\n",
       "      <td>0.00</td>\n",
       "      <td>14.29</td>\n",
       "      <td>-16.67</td>\n",
       "      <td>33.33</td>\n",
       "      <td>25.00</td>\n",
       "      <td>25.00</td>\n",
       "      <td>23.81</td>\n",
       "    </tr>\n",
       "    <tr>\n",
       "      <th>Borders</th>\n",
       "      <td>NaN</td>\n",
       "      <td>NaN</td>\n",
       "      <td>NaN</td>\n",
       "      <td>NaN</td>\n",
       "      <td>First Case Confirmed</td>\n",
       "      <td>0.00</td>\n",
       "      <td>33.33</td>\n",
       "      <td>40</td>\n",
       "      <td>28.57</td>\n",
       "      <td>0</td>\n",
       "      <td>0.00</td>\n",
       "      <td>0.00</td>\n",
       "      <td>12.50</td>\n",
       "      <td>11.11</td>\n",
       "      <td>10.00</td>\n",
       "    </tr>\n",
       "    <tr>\n",
       "      <th>Dumfries and Galloway</th>\n",
       "      <td>NaN</td>\n",
       "      <td>NaN</td>\n",
       "      <td>NaN</td>\n",
       "      <td>NaN</td>\n",
       "      <td>NaN</td>\n",
       "      <td>NaN</td>\n",
       "      <td>NaN</td>\n",
       "      <td>NaN</td>\n",
       "      <td>NaN</td>\n",
       "      <td>First Case Confirmed</td>\n",
       "      <td>0.00</td>\n",
       "      <td>75.00</td>\n",
       "      <td>33.33</td>\n",
       "      <td>40.00</td>\n",
       "      <td>23.08</td>\n",
       "    </tr>\n",
       "    <tr>\n",
       "      <th>Fife</th>\n",
       "      <td>0</td>\n",
       "      <td>0.00</td>\n",
       "      <td>0</td>\n",
       "      <td>0.00</td>\n",
       "      <td>0</td>\n",
       "      <td>33.33</td>\n",
       "      <td>25.00</td>\n",
       "      <td>33.33</td>\n",
       "      <td>14.29</td>\n",
       "      <td>0</td>\n",
       "      <td>0.00</td>\n",
       "      <td>12.50</td>\n",
       "      <td>11.11</td>\n",
       "      <td>25.00</td>\n",
       "      <td>7.69</td>\n",
       "    </tr>\n",
       "    <tr>\n",
       "      <th>Forth Valley</th>\n",
       "      <td>0</td>\n",
       "      <td>0.00</td>\n",
       "      <td>0</td>\n",
       "      <td>0.00</td>\n",
       "      <td>0</td>\n",
       "      <td>66.67</td>\n",
       "      <td>0.00</td>\n",
       "      <td>0</td>\n",
       "      <td>40.00</td>\n",
       "      <td>0</td>\n",
       "      <td>16.67</td>\n",
       "      <td>20.00</td>\n",
       "      <td>11.76</td>\n",
       "      <td>26.09</td>\n",
       "      <td>14.81</td>\n",
       "    </tr>\n",
       "    <tr>\n",
       "      <th>Grampian</th>\n",
       "      <td>25</td>\n",
       "      <td>0.00</td>\n",
       "      <td>0</td>\n",
       "      <td>33.33</td>\n",
       "      <td>0</td>\n",
       "      <td>14.29</td>\n",
       "      <td>36.36</td>\n",
       "      <td>-22.22</td>\n",
       "      <td>25.00</td>\n",
       "      <td>0</td>\n",
       "      <td>45.45</td>\n",
       "      <td>8.33</td>\n",
       "      <td>-33.33</td>\n",
       "      <td>5.26</td>\n",
       "      <td>5.00</td>\n",
       "    </tr>\n",
       "    <tr>\n",
       "      <th>Greater Glasgow and Clyde</th>\n",
       "      <td>50</td>\n",
       "      <td>33.33</td>\n",
       "      <td>0</td>\n",
       "      <td>0.00</td>\n",
       "      <td>40</td>\n",
       "      <td>50.00</td>\n",
       "      <td>52.38</td>\n",
       "      <td>32.26</td>\n",
       "      <td>20.51</td>\n",
       "      <td>11.36</td>\n",
       "      <td>10.20</td>\n",
       "      <td>14.04</td>\n",
       "      <td>19.72</td>\n",
       "      <td>21.98</td>\n",
       "      <td>17.27</td>\n",
       "    </tr>\n",
       "    <tr>\n",
       "      <th>Highland</th>\n",
       "      <td>NaN</td>\n",
       "      <td>NaN</td>\n",
       "      <td>NaN</td>\n",
       "      <td>NaN</td>\n",
       "      <td>NaN</td>\n",
       "      <td>NaN</td>\n",
       "      <td>NaN</td>\n",
       "      <td>First Case Confirmed</td>\n",
       "      <td>50.00</td>\n",
       "      <td>0</td>\n",
       "      <td>60.00</td>\n",
       "      <td>0.00</td>\n",
       "      <td>16.67</td>\n",
       "      <td>0.00</td>\n",
       "      <td>25.00</td>\n",
       "    </tr>\n",
       "    <tr>\n",
       "      <th>Lanarkshire</th>\n",
       "      <td>First Case Confirmed</td>\n",
       "      <td>0.00</td>\n",
       "      <td>33.33</td>\n",
       "      <td>0.00</td>\n",
       "      <td>25</td>\n",
       "      <td>42.86</td>\n",
       "      <td>0.00</td>\n",
       "      <td>30</td>\n",
       "      <td>37.50</td>\n",
       "      <td>20</td>\n",
       "      <td>4.76</td>\n",
       "      <td>16.00</td>\n",
       "      <td>24.24</td>\n",
       "      <td>19.51</td>\n",
       "      <td>16.33</td>\n",
       "    </tr>\n",
       "    <tr>\n",
       "      <th>Lothian</th>\n",
       "      <td>50</td>\n",
       "      <td>33.33</td>\n",
       "      <td>40</td>\n",
       "      <td>28.57</td>\n",
       "      <td>12.5</td>\n",
       "      <td>27.27</td>\n",
       "      <td>45.00</td>\n",
       "      <td>20</td>\n",
       "      <td>10.71</td>\n",
       "      <td>3.45</td>\n",
       "      <td>3.33</td>\n",
       "      <td>9.09</td>\n",
       "      <td>5.71</td>\n",
       "      <td>12.50</td>\n",
       "      <td>9.09</td>\n",
       "    </tr>\n",
       "    <tr>\n",
       "      <th>Shetland</th>\n",
       "      <td>NaN</td>\n",
       "      <td>NaN</td>\n",
       "      <td>First Case Confirmed</td>\n",
       "      <td>0.00</td>\n",
       "      <td>0</td>\n",
       "      <td>66.67</td>\n",
       "      <td>0.00</td>\n",
       "      <td>45.45</td>\n",
       "      <td>0.00</td>\n",
       "      <td>26.67</td>\n",
       "      <td>0.00</td>\n",
       "      <td>6.25</td>\n",
       "      <td>33.33</td>\n",
       "      <td>0.00</td>\n",
       "      <td>0.00</td>\n",
       "    </tr>\n",
       "    <tr>\n",
       "      <th>Tayside</th>\n",
       "      <td>0</td>\n",
       "      <td>0.00</td>\n",
       "      <td>0</td>\n",
       "      <td>0.00</td>\n",
       "      <td>50</td>\n",
       "      <td>50.00</td>\n",
       "      <td>-33.33</td>\n",
       "      <td>72.73</td>\n",
       "      <td>26.67</td>\n",
       "      <td>11.76</td>\n",
       "      <td>15.00</td>\n",
       "      <td>16.67</td>\n",
       "      <td>11.11</td>\n",
       "      <td>12.90</td>\n",
       "      <td>8.82</td>\n",
       "    </tr>\n",
       "  </tbody>\n",
       "</table>\n",
       "</div>"
      ],
      "text/plain": [
       "Daily % increase                     2020-03-07  2020-03-08  \\\n",
       "Health Board                                                  \n",
       "Ayrshire and Arran                            0        0.00   \n",
       "Borders                                     NaN         NaN   \n",
       "Dumfries and Galloway                       NaN         NaN   \n",
       "Fife                                          0        0.00   \n",
       "Forth Valley                                  0        0.00   \n",
       "Grampian                                     25        0.00   \n",
       "Greater Glasgow and Clyde                    50       33.33   \n",
       "Highland                                    NaN         NaN   \n",
       "Lanarkshire                First Case Confirmed        0.00   \n",
       "Lothian                                      50       33.33   \n",
       "Shetland                                    NaN         NaN   \n",
       "Tayside                                       0        0.00   \n",
       "\n",
       "Daily % increase                     2020-03-09  2020-03-10  \\\n",
       "Health Board                                                  \n",
       "Ayrshire and Arran                            0        0.00   \n",
       "Borders                                     NaN         NaN   \n",
       "Dumfries and Galloway                       NaN         NaN   \n",
       "Fife                                          0        0.00   \n",
       "Forth Valley                                  0        0.00   \n",
       "Grampian                                      0       33.33   \n",
       "Greater Glasgow and Clyde                     0        0.00   \n",
       "Highland                                    NaN         NaN   \n",
       "Lanarkshire                               33.33        0.00   \n",
       "Lothian                                      40       28.57   \n",
       "Shetland                   First Case Confirmed        0.00   \n",
       "Tayside                                       0        0.00   \n",
       "\n",
       "Daily % increase                     2020-03-11  2020-03-12  2020-03-13  \\\n",
       "Health Board                                                              \n",
       "Ayrshire and Arran                        66.67       25.00        0.00   \n",
       "Borders                    First Case Confirmed        0.00       33.33   \n",
       "Dumfries and Galloway                       NaN         NaN         NaN   \n",
       "Fife                                          0       33.33       25.00   \n",
       "Forth Valley                                  0       66.67        0.00   \n",
       "Grampian                                      0       14.29       36.36   \n",
       "Greater Glasgow and Clyde                    40       50.00       52.38   \n",
       "Highland                                    NaN         NaN         NaN   \n",
       "Lanarkshire                                  25       42.86        0.00   \n",
       "Lothian                                    12.5       27.27       45.00   \n",
       "Shetland                                      0       66.67        0.00   \n",
       "Tayside                                      50       50.00      -33.33   \n",
       "\n",
       "Daily % increase                     2020-03-14  2020-03-15  \\\n",
       "Health Board                                                  \n",
       "Ayrshire and Arran                        33.33        0.00   \n",
       "Borders                                      40       28.57   \n",
       "Dumfries and Galloway                       NaN         NaN   \n",
       "Fife                                      33.33       14.29   \n",
       "Forth Valley                                  0       40.00   \n",
       "Grampian                                 -22.22       25.00   \n",
       "Greater Glasgow and Clyde                 32.26       20.51   \n",
       "Highland                   First Case Confirmed       50.00   \n",
       "Lanarkshire                                  30       37.50   \n",
       "Lothian                                      20       10.71   \n",
       "Shetland                                  45.45        0.00   \n",
       "Tayside                                   72.73       26.67   \n",
       "\n",
       "Daily % increase                     2020-03-16  2020-03-17  2020-03-18  \\\n",
       "Health Board                                                              \n",
       "Ayrshire and Arran                        14.29      -16.67       33.33   \n",
       "Borders                                       0        0.00        0.00   \n",
       "Dumfries and Galloway      First Case Confirmed        0.00       75.00   \n",
       "Fife                                          0        0.00       12.50   \n",
       "Forth Valley                                  0       16.67       20.00   \n",
       "Grampian                                      0       45.45        8.33   \n",
       "Greater Glasgow and Clyde                 11.36       10.20       14.04   \n",
       "Highland                                      0       60.00        0.00   \n",
       "Lanarkshire                                  20        4.76       16.00   \n",
       "Lothian                                    3.45        3.33        9.09   \n",
       "Shetland                                  26.67        0.00        6.25   \n",
       "Tayside                                   11.76       15.00       16.67   \n",
       "\n",
       "Daily % increase           2020-03-19  2020-03-20  2020-03-21  \n",
       "Health Board                                                   \n",
       "Ayrshire and Arran              25.00       25.00       23.81  \n",
       "Borders                         12.50       11.11       10.00  \n",
       "Dumfries and Galloway           33.33       40.00       23.08  \n",
       "Fife                            11.11       25.00        7.69  \n",
       "Forth Valley                    11.76       26.09       14.81  \n",
       "Grampian                       -33.33        5.26        5.00  \n",
       "Greater Glasgow and Clyde       19.72       21.98       17.27  \n",
       "Highland                        16.67        0.00       25.00  \n",
       "Lanarkshire                     24.24       19.51       16.33  \n",
       "Lothian                          5.71       12.50        9.09  \n",
       "Shetland                        33.33        0.00        0.00  \n",
       "Tayside                         11.11       12.90        8.82  "
      ]
     },
     "execution_count": 147,
     "metadata": {},
     "output_type": "execute_result"
    }
   ],
   "source": [
    "percentage_increases = calculate_percentage_increases(all_results.counts)\n",
    "percentage_increases_numbers = percentage_increases.copy()\n",
    "percentage_increases = percentage_increases.replace(100,'First Case Confirmed')\n",
    "percentage_increases"
   ]
  },
  {
   "cell_type": "code",
   "execution_count": 148,
   "metadata": {},
   "outputs": [
    {
     "data": {
      "text/plain": [
       "Health Board\n",
       "Ayrshire and Arran           15\n",
       "Borders                      11\n",
       "Dumfries and Galloway         6\n",
       "Fife                         15\n",
       "Forth Valley                 15\n",
       "Grampian                     15\n",
       "Greater Glasgow and Clyde    15\n",
       "Highland                      8\n",
       "Lanarkshire                  15\n",
       "Lothian                      15\n",
       "Shetland                     13\n",
       "Tayside                      15\n",
       "Name: Minimum number of days of confirmed cases, dtype: int64"
      ]
     },
     "execution_count": 148,
     "metadata": {},
     "output_type": "execute_result"
    }
   ],
   "source": [
    "min_days_present = (~percentage_increases.isna()).sum(axis=1)\n",
    "min_days_present.name = 'Minimum number of days of confirmed cases'\n",
    "min_days_present"
   ]
  },
  {
   "cell_type": "code",
   "execution_count": 150,
   "metadata": {},
   "outputs": [
    {
     "data": {
      "text/plain": [
       "Health Board\n",
       "Tayside                      10.78\n",
       "Ayrshire and Arran           11.55\n",
       "Shetland                     11.81\n",
       "Borders                      11.94\n",
       "Fife                         12.89\n",
       "Grampian                     13.97\n",
       "Lanarkshire                  16.12\n",
       "Lothian                      18.46\n",
       "Forth Valley                 19.60\n",
       "Greater Glasgow and Clyde    23.94\n",
       "Highland                     25.28\n",
       "Dumfries and Galloway        34.28\n",
       "Name: Mean % increase 6-21th March, dtype: float64"
      ]
     },
     "execution_count": 150,
     "metadata": {},
     "output_type": "execute_result"
    }
   ],
   "source": [
    "mean_daily_percent_increase_by_board = round(\n",
    "    percentage_increases.mean(axis=1), 2)\n",
    "mean_daily_percent_increase_by_board.name = \"Mean % increase 6-21th March\"\n",
    "mean_daily_percent_increase_by_board.sort_values()"
   ]
  },
  {
   "cell_type": "code",
   "execution_count": 151,
   "metadata": {},
   "outputs": [
    {
     "data": {
      "text/plain": [
       "            Deaths of confirmed cases  Tests concluded\n",
       "date                                                  \n",
       "2020-03-06                          0             1525\n",
       "2020-03-07                          0             1680\n",
       "2020-03-08                          0             1957\n",
       "2020-03-09                          0             2101\n",
       "2020-03-10                          0             2234\n",
       "2020-03-11                          0             2316\n",
       "2020-03-12                          0             2892\n",
       "2020-03-13                          1             3314\n",
       "2020-03-14                          1             3715\n",
       "2020-03-15                          1             4240\n",
       "2020-03-16                          1             4895\n",
       "2020-03-17                          2             5246\n",
       "2020-03-18                          3             6091\n",
       "2020-03-19                          6             6772\n",
       "2020-03-20                          6             7550\n",
       "2020-03-21                          7             8259"
      ]
     },
     "execution_count": 151,
     "metadata": {},
     "output_type": "execute_result"
    }
   ],
   "source": [
    "all_results"
   ]
  },
  {
   "cell_type": "markdown",
   "metadata": {},
   "source": [
    "## Linking Council areas to Health Boards for population statistics purposes"
   ]
  },
  {
   "cell_type": "code",
   "execution_count": null,
   "metadata": {},
   "outputs": [],
   "source": [
    "tables = pd.read_html('https://en.wikipedia.org/wiki/Subdivisions_of_Scotland')"
   ]
  },
  {
   "cell_type": "code",
   "execution_count": null,
   "metadata": {},
   "outputs": [],
   "source": [
    "council_areas = tables[2].copy()\n",
    "health_board_to_council = tables[4].copy()"
   ]
  },
  {
   "cell_type": "code",
   "execution_count": 360,
   "metadata": {},
   "outputs": [],
   "source": [
    "percentage_population_tested = all_results.tests/scottish_population_mid_2018_estimate*100"
   ]
  },
  {
   "cell_type": "code",
   "execution_count": 361,
   "metadata": {},
   "outputs": [
    {
     "data": {
      "text/plain": [
       "date\n",
       "2020-03-06    0.028043\n",
       "2020-03-07    0.030893\n",
       "2020-03-08    0.035987\n",
       "2020-03-09    0.038635\n",
       "2020-03-10    0.041081\n",
       "2020-03-11    0.042588\n",
       "2020-03-12    0.053180\n",
       "2020-03-13    0.060940\n",
       "2020-03-14    0.068314\n",
       "2020-03-15    0.077968\n",
       "2020-03-16    0.090013\n",
       "2020-03-17    0.096468\n",
       "2020-03-18    0.112006\n",
       "2020-03-19    0.124529\n",
       "2020-03-20    0.138835\n",
       "2020-03-21    0.151873\n",
       "Name: Tests concluded, dtype: float64"
      ]
     },
     "execution_count": 361,
     "metadata": {},
     "output_type": "execute_result"
    }
   ],
   "source": [
    "percentage_population_tested"
   ]
  },
  {
   "cell_type": "code",
   "execution_count": 224,
   "metadata": {},
   "outputs": [],
   "source": [
    "council_areas.set_index('Council area', inplace=True)"
   ]
  },
  {
   "cell_type": "code",
   "execution_count": 323,
   "metadata": {},
   "outputs": [
    {
     "data": {
      "text/html": [
       "<div>\n",
       "<style scoped>\n",
       "    .dataframe tbody tr th:only-of-type {\n",
       "        vertical-align: middle;\n",
       "    }\n",
       "\n",
       "    .dataframe tbody tr th {\n",
       "        vertical-align: top;\n",
       "    }\n",
       "\n",
       "    .dataframe thead th {\n",
       "        text-align: right;\n",
       "    }\n",
       "</style>\n",
       "<table border=\"1\" class=\"dataframe\">\n",
       "  <thead>\n",
       "    <tr style=\"text-align: right;\">\n",
       "      <th></th>\n",
       "      <th>Rank</th>\n",
       "      <th>Population[3]</th>\n",
       "      <th>Electors[4]</th>\n",
       "      <th>Area (km²)[5]</th>\n",
       "      <th>Density(per km²)</th>\n",
       "    </tr>\n",
       "    <tr>\n",
       "      <th>Council area</th>\n",
       "      <th></th>\n",
       "      <th></th>\n",
       "      <th></th>\n",
       "      <th></th>\n",
       "      <th></th>\n",
       "    </tr>\n",
       "  </thead>\n",
       "  <tbody>\n",
       "    <tr>\n",
       "      <th>Aberdeenshire</th>\n",
       "      <td>6</td>\n",
       "      <td>261470</td>\n",
       "      <td>202194</td>\n",
       "      <td>6313.00</td>\n",
       "      <td>41</td>\n",
       "    </tr>\n",
       "    <tr>\n",
       "      <th>Angus</th>\n",
       "      <td>17</td>\n",
       "      <td>116040</td>\n",
       "      <td>89652</td>\n",
       "      <td>2182.00</td>\n",
       "      <td>53</td>\n",
       "    </tr>\n",
       "    <tr>\n",
       "      <th>Argyll and Bute</th>\n",
       "      <td>27</td>\n",
       "      <td>86260</td>\n",
       "      <td>68271</td>\n",
       "      <td>6909.00</td>\n",
       "      <td>12</td>\n",
       "    </tr>\n",
       "    <tr>\n",
       "      <th>City of Aberdeen</th>\n",
       "      <td>8</td>\n",
       "      <td>227560</td>\n",
       "      <td>163196</td>\n",
       "      <td>185.70</td>\n",
       "      <td>1225</td>\n",
       "    </tr>\n",
       "    <tr>\n",
       "      <th>City of Dundee</th>\n",
       "      <td>14</td>\n",
       "      <td>148750</td>\n",
       "      <td>112513</td>\n",
       "      <td>59.83</td>\n",
       "      <td>2486</td>\n",
       "    </tr>\n",
       "    <tr>\n",
       "      <th>City of Edinburgh</th>\n",
       "      <td>2</td>\n",
       "      <td>518500</td>\n",
       "      <td>367762</td>\n",
       "      <td>263.40</td>\n",
       "      <td>1969</td>\n",
       "    </tr>\n",
       "    <tr>\n",
       "      <th>City of Glasgow</th>\n",
       "      <td>1</td>\n",
       "      <td>626410</td>\n",
       "      <td>462286</td>\n",
       "      <td>174.70</td>\n",
       "      <td>3586</td>\n",
       "    </tr>\n",
       "    <tr>\n",
       "      <th>Clackmannanshire</th>\n",
       "      <td>29</td>\n",
       "      <td>51400</td>\n",
       "      <td>39186</td>\n",
       "      <td>159.00</td>\n",
       "      <td>323</td>\n",
       "    </tr>\n",
       "    <tr>\n",
       "      <th>Dumfries and Galloway</th>\n",
       "      <td>13</td>\n",
       "      <td>148790</td>\n",
       "      <td>116593</td>\n",
       "      <td>6427.00</td>\n",
       "      <td>23</td>\n",
       "    </tr>\n",
       "    <tr>\n",
       "      <th>East Ayrshire</th>\n",
       "      <td>16</td>\n",
       "      <td>121840</td>\n",
       "      <td>94657</td>\n",
       "      <td>1262.00</td>\n",
       "      <td>97</td>\n",
       "    </tr>\n",
       "    <tr>\n",
       "      <th>East Dunbartonshire</th>\n",
       "      <td>20</td>\n",
       "      <td>108330</td>\n",
       "      <td>85410</td>\n",
       "      <td>174.50</td>\n",
       "      <td>621</td>\n",
       "    </tr>\n",
       "    <tr>\n",
       "      <th>East Lothian</th>\n",
       "      <td>21</td>\n",
       "      <td>105790</td>\n",
       "      <td>80874</td>\n",
       "      <td>679.20</td>\n",
       "      <td>156</td>\n",
       "    </tr>\n",
       "    <tr>\n",
       "      <th>East Renfrewshire</th>\n",
       "      <td>23</td>\n",
       "      <td>95170</td>\n",
       "      <td>71618</td>\n",
       "      <td>174.20</td>\n",
       "      <td>546</td>\n",
       "    </tr>\n",
       "    <tr>\n",
       "      <th>Falkirk</th>\n",
       "      <td>11</td>\n",
       "      <td>160340</td>\n",
       "      <td>122471</td>\n",
       "      <td>297.40</td>\n",
       "      <td>539</td>\n",
       "    </tr>\n",
       "    <tr>\n",
       "      <th>Fife</th>\n",
       "      <td>3</td>\n",
       "      <td>371910</td>\n",
       "      <td>280622</td>\n",
       "      <td>1325.00</td>\n",
       "      <td>281</td>\n",
       "    </tr>\n",
       "    <tr>\n",
       "      <th>Highland</th>\n",
       "      <td>7</td>\n",
       "      <td>235540</td>\n",
       "      <td>184697</td>\n",
       "      <td>25657.00</td>\n",
       "      <td>9</td>\n",
       "    </tr>\n",
       "    <tr>\n",
       "      <th>Inverclyde</th>\n",
       "      <td>28</td>\n",
       "      <td>78150</td>\n",
       "      <td>59941</td>\n",
       "      <td>160.50</td>\n",
       "      <td>487</td>\n",
       "    </tr>\n",
       "    <tr>\n",
       "      <th>Midlothian</th>\n",
       "      <td>25</td>\n",
       "      <td>91340</td>\n",
       "      <td>70587</td>\n",
       "      <td>353.70</td>\n",
       "      <td>258</td>\n",
       "    </tr>\n",
       "    <tr>\n",
       "      <th>Moray</th>\n",
       "      <td>22</td>\n",
       "      <td>95520</td>\n",
       "      <td>73284</td>\n",
       "      <td>2238.00</td>\n",
       "      <td>43</td>\n",
       "    </tr>\n",
       "    <tr>\n",
       "      <th>Na h-Eileanan Siar (Western Isles)</th>\n",
       "      <td>30</td>\n",
       "      <td>26830</td>\n",
       "      <td>21874</td>\n",
       "      <td>3059.00</td>\n",
       "      <td>9</td>\n",
       "    </tr>\n",
       "    <tr>\n",
       "      <th>North Ayrshire</th>\n",
       "      <td>15</td>\n",
       "      <td>135280</td>\n",
       "      <td>107763</td>\n",
       "      <td>885.40</td>\n",
       "      <td>153</td>\n",
       "    </tr>\n",
       "    <tr>\n",
       "      <th>North Lanarkshire</th>\n",
       "      <td>4</td>\n",
       "      <td>340180</td>\n",
       "      <td>256174</td>\n",
       "      <td>469.90</td>\n",
       "      <td>724</td>\n",
       "    </tr>\n",
       "    <tr>\n",
       "      <th>Orkney Islands</th>\n",
       "      <td>32</td>\n",
       "      <td>22190</td>\n",
       "      <td>17135</td>\n",
       "      <td>988.80</td>\n",
       "      <td>22</td>\n",
       "    </tr>\n",
       "    <tr>\n",
       "      <th>Perth and Kinross</th>\n",
       "      <td>12</td>\n",
       "      <td>151290</td>\n",
       "      <td>114936</td>\n",
       "      <td>5286.00</td>\n",
       "      <td>29</td>\n",
       "    </tr>\n",
       "    <tr>\n",
       "      <th>Renfrewshire</th>\n",
       "      <td>10</td>\n",
       "      <td>177790</td>\n",
       "      <td>133295</td>\n",
       "      <td>261.50</td>\n",
       "      <td>680</td>\n",
       "    </tr>\n",
       "    <tr>\n",
       "      <th>Scottish Borders</th>\n",
       "      <td>18</td>\n",
       "      <td>115270</td>\n",
       "      <td>91919</td>\n",
       "      <td>4732.00</td>\n",
       "      <td>24</td>\n",
       "    </tr>\n",
       "    <tr>\n",
       "      <th>Shetland Islands</th>\n",
       "      <td>31</td>\n",
       "      <td>22990</td>\n",
       "      <td>17837</td>\n",
       "      <td>1468.00</td>\n",
       "      <td>16</td>\n",
       "    </tr>\n",
       "    <tr>\n",
       "      <th>South Ayrshire</th>\n",
       "      <td>19</td>\n",
       "      <td>112550</td>\n",
       "      <td>90300</td>\n",
       "      <td>1222.00</td>\n",
       "      <td>92</td>\n",
       "    </tr>\n",
       "    <tr>\n",
       "      <th>South Lanarkshire</th>\n",
       "      <td>5</td>\n",
       "      <td>319020</td>\n",
       "      <td>248875</td>\n",
       "      <td>1772.00</td>\n",
       "      <td>180</td>\n",
       "    </tr>\n",
       "    <tr>\n",
       "      <th>Stirling</th>\n",
       "      <td>24</td>\n",
       "      <td>94330</td>\n",
       "      <td>68778</td>\n",
       "      <td>2187.00</td>\n",
       "      <td>43</td>\n",
       "    </tr>\n",
       "    <tr>\n",
       "      <th>West Dunbartonshire</th>\n",
       "      <td>26</td>\n",
       "      <td>89130</td>\n",
       "      <td>68826</td>\n",
       "      <td>158.80</td>\n",
       "      <td>561</td>\n",
       "    </tr>\n",
       "    <tr>\n",
       "      <th>West Lothian</th>\n",
       "      <td>9</td>\n",
       "      <td>182140</td>\n",
       "      <td>137614</td>\n",
       "      <td>427.70</td>\n",
       "      <td>426</td>\n",
       "    </tr>\n",
       "  </tbody>\n",
       "</table>\n",
       "</div>"
      ],
      "text/plain": [
       "                                    Rank  Population[3]  Electors[4]  \\\n",
       "Council area                                                           \n",
       "Aberdeenshire                          6         261470       202194   \n",
       "Angus                                 17         116040        89652   \n",
       "Argyll and Bute                       27          86260        68271   \n",
       "City of Aberdeen                       8         227560       163196   \n",
       "City of Dundee                        14         148750       112513   \n",
       "City of Edinburgh                      2         518500       367762   \n",
       "City of Glasgow                        1         626410       462286   \n",
       "Clackmannanshire                      29          51400        39186   \n",
       "Dumfries and Galloway                 13         148790       116593   \n",
       "East Ayrshire                         16         121840        94657   \n",
       "East Dunbartonshire                   20         108330        85410   \n",
       "East Lothian                          21         105790        80874   \n",
       "East Renfrewshire                     23          95170        71618   \n",
       "Falkirk                               11         160340       122471   \n",
       "Fife                                   3         371910       280622   \n",
       "Highland                               7         235540       184697   \n",
       "Inverclyde                            28          78150        59941   \n",
       "Midlothian                            25          91340        70587   \n",
       "Moray                                 22          95520        73284   \n",
       "Na h-Eileanan Siar (Western Isles)    30          26830        21874   \n",
       "North Ayrshire                        15         135280       107763   \n",
       "North Lanarkshire                      4         340180       256174   \n",
       "Orkney Islands                        32          22190        17135   \n",
       "Perth and Kinross                     12         151290       114936   \n",
       "Renfrewshire                          10         177790       133295   \n",
       "Scottish Borders                      18         115270        91919   \n",
       "Shetland Islands                      31          22990        17837   \n",
       "South Ayrshire                        19         112550        90300   \n",
       "South Lanarkshire                      5         319020       248875   \n",
       "Stirling                              24          94330        68778   \n",
       "West Dunbartonshire                   26          89130        68826   \n",
       "West Lothian                           9         182140       137614   \n",
       "\n",
       "                                    Area (km²)[5]  Density(per km²)  \n",
       "Council area                                                         \n",
       "Aberdeenshire                             6313.00                41  \n",
       "Angus                                     2182.00                53  \n",
       "Argyll and Bute                           6909.00                12  \n",
       "City of Aberdeen                           185.70              1225  \n",
       "City of Dundee                              59.83              2486  \n",
       "City of Edinburgh                          263.40              1969  \n",
       "City of Glasgow                            174.70              3586  \n",
       "Clackmannanshire                           159.00               323  \n",
       "Dumfries and Galloway                     6427.00                23  \n",
       "East Ayrshire                             1262.00                97  \n",
       "East Dunbartonshire                        174.50               621  \n",
       "East Lothian                               679.20               156  \n",
       "East Renfrewshire                          174.20               546  \n",
       "Falkirk                                    297.40               539  \n",
       "Fife                                      1325.00               281  \n",
       "Highland                                 25657.00                 9  \n",
       "Inverclyde                                 160.50               487  \n",
       "Midlothian                                 353.70               258  \n",
       "Moray                                     2238.00                43  \n",
       "Na h-Eileanan Siar (Western Isles)        3059.00                 9  \n",
       "North Ayrshire                             885.40               153  \n",
       "North Lanarkshire                          469.90               724  \n",
       "Orkney Islands                             988.80                22  \n",
       "Perth and Kinross                         5286.00                29  \n",
       "Renfrewshire                               261.50               680  \n",
       "Scottish Borders                          4732.00                24  \n",
       "Shetland Islands                          1468.00                16  \n",
       "South Ayrshire                            1222.00                92  \n",
       "South Lanarkshire                         1772.00               180  \n",
       "Stirling                                  2187.00                43  \n",
       "West Dunbartonshire                        158.80               561  \n",
       "West Lothian                               427.70               426  "
      ]
     },
     "execution_count": 323,
     "metadata": {},
     "output_type": "execute_result"
    }
   ],
   "source": [
    "council_areas"
   ]
  },
  {
   "cell_type": "code",
   "execution_count": 227,
   "metadata": {},
   "outputs": [],
   "source": [
    "scottish_polulation = council_areas.sum()[1]"
   ]
  },
  {
   "cell_type": "code",
   "execution_count": 243,
   "metadata": {},
   "outputs": [],
   "source": [
    "council_areas = council_areas.loc[council_areas.index.sort_values()]"
   ]
  },
  {
   "cell_type": "code",
   "execution_count": 302,
   "metadata": {},
   "outputs": [],
   "source": [
    "health_board_to_council.set_index(health_board_to_council.columns[0], inplace=True)"
   ]
  },
  {
   "cell_type": "code",
   "execution_count": 303,
   "metadata": {},
   "outputs": [],
   "source": [
    "health_board_to_council.rename({'Council areas':'council_areas'}, axis=1, inplace=True)"
   ]
  },
  {
   "cell_type": "code",
   "execution_count": 304,
   "metadata": {},
   "outputs": [],
   "source": [
    "health_board_to_council = health_board_to_council.council_areas.str.rsplit(' and ',1, expand=True)"
   ]
  },
  {
   "cell_type": "code",
   "execution_count": 366,
   "metadata": {},
   "outputs": [],
   "source": [
    "# Forth Valley\n",
    "health_board_to_council.iloc[4].name = health_board_to_council.iloc[4].name.rsplit(' ', 5)[0]"
   ]
  },
  {
   "cell_type": "markdown",
   "metadata": {},
   "source": [
    "Splitting on final ' and ' above create issues for the following areas"
   ]
  },
  {
   "cell_type": "code",
   "execution_count": 337,
   "metadata": {},
   "outputs": [],
   "source": [
    "# Handle Perth and Kinross\n",
    "health_board_to_council.loc['Tayside'].iloc[1] = health_board_to_council.loc['Tayside'].iloc[1].split(' and ')[0]\n",
    "health_board_to_council.loc['Tayside'].iloc[-1] = 'Perth and Kinross'"
   ]
  },
  {
   "cell_type": "code",
   "execution_count": 339,
   "metadata": {},
   "outputs": [],
   "source": [
    "# Handle Dumfries and Galloway\n",
    "health_board_to_council.iloc[2][0] = health_board_to_council.iloc[2].name"
   ]
  },
  {
   "cell_type": "code",
   "execution_count": 306,
   "metadata": {},
   "outputs": [],
   "source": [
    "health_board_to_council = health_board_to_council.iloc[:,0].str.split(', ', expand=True).join(health_board_to_council.iloc[:,1], rsuffix='_1')"
   ]
  },
  {
   "cell_type": "code",
   "execution_count": 311,
   "metadata": {},
   "outputs": [],
   "source": [
    "health_board_to_council.loc['Dumfries and Galloway'][-1] = None"
   ]
  },
  {
   "cell_type": "code",
   "execution_count": 347,
   "metadata": {},
   "outputs": [],
   "source": [
    "# Use council area naming\n",
    "health_board_to_council.iloc[-1][0] = 'Na h-Eileanan Siar (Western Isles)'"
   ]
  },
  {
   "cell_type": "code",
   "execution_count": 356,
   "metadata": {},
   "outputs": [],
   "source": [
    "def get_population_for_health_board(health_board_to_council: pd.DataFrame,\n",
    "                                    council_areas: pd.DataFrame) -> pd.Series:\n",
    "    \"\"\"Sum population for council areas that make up each health board\"\"\"\n",
    "    population_health_boards = {}\n",
    "    for health_board, councils in health_board_to_council.iterrows():\n",
    "        population_total = 0\n",
    "        for council in councils:\n",
    "            if council is not None:\n",
    "                population_total += int(council_areas.loc[council][1])\n",
    "        population_health_boards[health_board] = population_total\n",
    "    return pd.Series(population_health_boards, name='Population mid 2018 ONS estimate')"
   ]
  },
  {
   "cell_type": "code",
   "execution_count": 359,
   "metadata": {},
   "outputs": [],
   "source": [
    "scottish_population_mid_2018_estimate = get_population_for_health_board(health_board_to_council, council_areas).sum()"
   ]
  },
  {
   "cell_type": "code",
   "execution_count": 364,
   "metadata": {},
   "outputs": [],
   "source": [
    "health_board_populations = get_population_for_health_board()"
   ]
  },
  {
   "cell_type": "code",
   "execution_count": 365,
   "metadata": {},
   "outputs": [
    {
     "data": {
      "text/plain": [
       "Ayrshire and Arran                                  369670\n",
       "Borders                                             115270\n",
       "Dumfries and Galloway                               148790\n",
       "Fife                                                371910\n",
       "Forth Valley Central Scotland in other contexts     306070\n",
       "Grampian                                            584550\n",
       "Greater Glasgow and Clyde                          1174980\n",
       "Highland                                            321800\n",
       "Lanarkshire                                         659200\n",
       "Lothian                                             897770\n",
       "Orkney                                               22190\n",
       "Shetland                                             22990\n",
       "Tayside                                             416080\n",
       "Western Isles (Eileanan Siar)                        26830\n",
       "Name: Population mid 2018 ONS estimate, dtype: int64"
      ]
     },
     "execution_count": 365,
     "metadata": {},
     "output_type": "execute_result"
    }
   ],
   "source": [
    "health_board_populations"
   ]
  },
  {
   "cell_type": "code",
   "execution_count": 372,
   "metadata": {},
   "outputs": [],
   "source": [
    "# Drop the Forth Valley suffix\n",
    "health_board_to_council.rename({health_board_to_council.index[4]: health_board_to_council.index[4].rsplit(' ', 5)[0]}, inplace=True)"
   ]
  },
  {
   "cell_type": "code",
   "execution_count": 375,
   "metadata": {},
   "outputs": [],
   "source": [
    "last_counts = all_results.counts.iloc[-1]"
   ]
  },
  {
   "cell_type": "code",
   "execution_count": 379,
   "metadata": {},
   "outputs": [],
   "source": [
    "# Drop the Forth Valley suffix\n",
    "health_board_populations.rename({health_board_populations.index[4]: health_board_populations.index[4].rsplit(' ', 5)[0]}, inplace=True)"
   ]
  },
  {
   "cell_type": "code",
   "execution_count": 385,
   "metadata": {},
   "outputs": [],
   "source": [
    "percentage_confirmed_cases_by_health_board_population = (last_counts / health_board_populations * 100).sort_values(ascending=False)"
   ]
  },
  {
   "cell_type": "code",
   "execution_count": 386,
   "metadata": {},
   "outputs": [
    {
     "data": {
      "text/plain": [
       "Shetland                         0.104393\n",
       "Greater Glasgow and Clyde        0.009362\n",
       "Forth Valley                     0.008822\n",
       "Dumfries and Galloway            0.008737\n",
       "Borders                          0.008675\n",
       "Tayside                          0.008172\n",
       "Lanarkshire                      0.007433\n",
       "Ayrshire and Arran               0.005681\n",
       "Lothian                          0.004901\n",
       "Fife                             0.003495\n",
       "Grampian                         0.003421\n",
       "Highland                         0.002486\n",
       "Orkney                                NaN\n",
       "Western Isles (Eileanan Siar)         NaN\n",
       "dtype: float64"
      ]
     },
     "execution_count": 386,
     "metadata": {},
     "output_type": "execute_result"
    }
   ],
   "source": [
    "percentage_confirmed_cases_by_health_board_population"
   ]
  },
  {
   "cell_type": "code",
   "execution_count": 388,
   "metadata": {},
   "outputs": [],
   "source": [
    "health_board_to_council.to_csv('health_board_to_council.csv')"
   ]
  },
  {
   "cell_type": "code",
   "execution_count": 390,
   "metadata": {},
   "outputs": [],
   "source": [
    "council_areas.to_csv('council_areas.csv')"
   ]
  },
  {
   "cell_type": "markdown",
   "metadata": {},
   "source": [
    "## Reading Scottish Health Board polygons created from Ordnance Survey Boundary line Open Data"
   ]
  },
  {
   "cell_type": "code",
   "execution_count": 424,
   "metadata": {},
   "outputs": [],
   "source": [
    "health_boards = gpd.read_file('scottish_health_boards.gpkg', layer='scottish_health_boards')"
   ]
  },
  {
   "cell_type": "code",
   "execution_count": 426,
   "metadata": {},
   "outputs": [],
   "source": [
    "health_boards.set_index('Name', inplace=True)"
   ]
  },
  {
   "cell_type": "code",
   "execution_count": 428,
   "metadata": {},
   "outputs": [
    {
     "data": {
      "text/plain": [
       "Index(['Aberdeen City', 'Clackmannanshire', 'Dumfries and Galloway',\n",
       "       'Dundee City', 'East Ayrshire', 'East Dunbartonshire', 'Fife',\n",
       "       'Highland', 'Midlothian', 'Na h-Eileanan an Iar', 'Orkney Islands',\n",
       "       'Scottish Borders', 'Shetland Islands', 'South Lanarkshire'],\n",
       "      dtype='object', name='Name')"
      ]
     },
     "execution_count": 428,
     "metadata": {},
     "output_type": "execute_result"
    }
   ],
   "source": [
    "health_boards.index.sort_values()"
   ]
  },
  {
   "cell_type": "code",
   "execution_count": 430,
   "metadata": {},
   "outputs": [],
   "source": [
    "# Ensure naming is consistent with names used on Scottish Government COVID-19 page\n",
    "health_boards.rename({\n",
    "    'Aberdeen City': 'Grampian',\n",
    "    'Clackmannanshire': 'Forth Valley',\n",
    "    'Dundee City': 'Tayside',\n",
    "    'East Ayrshire': 'Ayrshire and Arran',\n",
    "    'East Dunbartonshire': 'Greater Glasgow and Clyde',\n",
    "    'Midlothian': 'Lothian',\n",
    "    'Na h-Eileanan an Iar': 'Western Isles (Eileanan Siar)',\n",
    "    'Orkney Islands': 'Orkney',\n",
    "    'Scottish Borders': 'Borders',\n",
    "    'Shetland Islands': 'Shetland',\n",
    "    'South Lanarkshire': 'Lanarkshire'\n",
    "}, inplace=True)"
   ]
  },
  {
   "cell_type": "code",
   "execution_count": 433,
   "metadata": {},
   "outputs": [],
   "source": [
    "health_board_geo_series = health_boards.geometry"
   ]
  },
  {
   "cell_type": "code",
   "execution_count": 437,
   "metadata": {},
   "outputs": [],
   "source": [
    "health_board_geo_series = health_board_geo_series[health_board_geo_series.index.sort_values()]"
   ]
  },
  {
   "cell_type": "code",
   "execution_count": 442,
   "metadata": {},
   "outputs": [],
   "source": [
    "health_board_geo_df = gpd.GeoDataFrame(all_results.counts.iloc[-1], geometry=health_board_geo_series.geometry)"
   ]
  },
  {
   "cell_type": "code",
   "execution_count": 451,
   "metadata": {},
   "outputs": [],
   "source": [
    "health_board_geo_df.rename({health_board_geo_df.columns[0]: str(health_board_geo_df.columns[0])}, axis=1, inplace=True)"
   ]
  },
  {
   "cell_type": "code",
   "execution_count": 452,
   "metadata": {},
   "outputs": [],
   "source": [
    "health_board_geo_df.to_file('scottish_health_board_counts_20200322.gpkg', driver='GPKG')"
   ]
  }
 ],
 "metadata": {
  "kernelspec": {
   "display_name": "Python 3",
   "language": "python",
   "name": "python3"
  },
  "language_info": {
   "codemirror_mode": {
    "name": "ipython",
    "version": 3
   },
   "file_extension": ".py",
   "mimetype": "text/x-python",
   "name": "python",
   "nbconvert_exporter": "python",
   "pygments_lexer": "ipython3",
   "version": "3.7.1"
  }
 },
 "nbformat": 4,
 "nbformat_minor": 4
}
